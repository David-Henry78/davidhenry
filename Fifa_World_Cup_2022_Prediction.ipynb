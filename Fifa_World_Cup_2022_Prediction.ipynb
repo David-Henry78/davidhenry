{
  "cells": [
    {
      "cell_type": "markdown",
      "metadata": {
        "id": "view-in-github",
        "colab_type": "text"
      },
      "source": [
        "<a href=\"https://colab.research.google.com/github/David-Henry78/davidhenry/blob/master/Fifa_World_Cup_2022_Prediction.ipynb\" target=\"_parent\"><img src=\"https://colab.research.google.com/assets/colab-badge.svg\" alt=\"Open In Colab\"/></a>"
      ]
    },
    {
      "cell_type": "code",
      "execution_count": null,
      "metadata": {
        "colab": {
          "base_uri": "https://localhost:8080/"
        },
        "id": "xfqoaF0dCbO6",
        "outputId": "34432e25-3c9e-4be6-c2e5-78a3867ed9d6"
      },
      "outputs": [
        {
          "output_type": "stream",
          "name": "stdout",
          "text": [
            "\u001b[K     |████████████████████████████████| 281.3 MB 46 kB/s \n",
            "\u001b[K     |████████████████████████████████| 199 kB 49.0 MB/s \n",
            "\u001b[?25h  Building wheel for pyspark (setup.py) ... \u001b[?25l\u001b[?25hdone\n"
          ]
        }
      ],
      "source": [
        "!pip install pyspark --quiet\n",
        "!pip install -U -q PyDrive --quiet\n",
        "!apt install openjdk-8-jdk-headless &> /dev/null"
      ]
    },
    {
      "cell_type": "code",
      "execution_count": null,
      "metadata": {
        "id": "P1t29Hv9_NBs"
      },
      "outputs": [],
      "source": [
        "!pip install xgboost --quiet"
      ]
    },
    {
      "cell_type": "code",
      "execution_count": null,
      "metadata": {
        "colab": {
          "base_uri": "https://localhost:8080/"
        },
        "id": "ma4MClei__r3",
        "outputId": "8d3240cf-fa8d-4c36-c358-2b4984875fd4"
      },
      "outputs": [
        {
          "output_type": "stream",
          "name": "stdout",
          "text": [
            "Mounted at /content/drive/\n"
          ]
        }
      ],
      "source": [
        "import zipfile\n",
        "import numpy as np # linear algebra\n",
        "import pandas as pd # data processing, CSV file I/O (e.g. pd.read_csv)\n",
        "import seaborn as sns\n",
        "import os\n",
        "from sklearn import metrics\n",
        "from google.colab import drive\n",
        "drive.mount(\"/content/drive/\", force_remount=True)\n",
        "import matplotlib.pyplot as plt\n",
        "%matplotlib inline\n",
        "from pyspark.sql import SparkSession\n",
        "from pyspark.sql.functions import *\n",
        "from pyspark.sql import functions as F\n",
        "from pyspark.sql import types as T\n",
        "from pyspark.ml.stat import Correlation\n",
        "from pyspark.ml.feature import VectorAssembler\n",
        "from pyspark.mllib.stat import Statistics"
      ]
    },
    {
      "cell_type": "code",
      "execution_count": null,
      "metadata": {
        "id": "x5NzeFk7Sg7g"
      },
      "outputs": [],
      "source": [
        "# with zipfile.ZipFile('/content/archive (1).zip', 'r') as zip_ref:\n",
        "#     zip_ref.extractall('/content/')"
      ]
    },
    {
      "cell_type": "code",
      "execution_count": null,
      "metadata": {
        "id": "WF8pN6seC_FZ"
      },
      "outputs": [],
      "source": [
        "spark = SparkSession.builder.appName(\"Fifa-World-Cup-2022-Prediction\").getOrCreate()"
      ]
    },
    {
      "cell_type": "markdown",
      "metadata": {
        "id": "_8r8iSwtTgax"
      },
      "source": [
        "Exploratory Data Analysis (EDA)"
      ]
    },
    {
      "cell_type": "markdown",
      "metadata": {
        "id": "eo2HY0YpEFmw"
      },
      "source": [
        "international matches dataset"
      ]
    },
    {
      "cell_type": "code",
      "execution_count": null,
      "metadata": {
        "colab": {
          "base_uri": "https://localhost:8080/"
        },
        "id": "fklgo1wmS3xw",
        "outputId": "6798a977-f328-44c0-a196-8d78d761d834"
      },
      "outputs": [
        {
          "output_type": "execute_result",
          "data": {
            "text/plain": [
              "['date',\n",
              " 'home_team',\n",
              " 'away_team',\n",
              " 'home_team_continent',\n",
              " 'away_team_continent',\n",
              " 'home_team_fifa_rank',\n",
              " 'away_team_fifa_rank',\n",
              " 'home_team_total_fifa_points',\n",
              " 'away_team_total_fifa_points',\n",
              " 'home_team_score',\n",
              " 'away_team_score',\n",
              " 'tournament',\n",
              " 'city',\n",
              " 'country',\n",
              " 'neutral_location',\n",
              " 'shoot_out',\n",
              " 'home_team_result',\n",
              " 'home_team_goalkeeper_score',\n",
              " 'away_team_goalkeeper_score',\n",
              " 'home_team_mean_defense_score',\n",
              " 'home_team_mean_offense_score',\n",
              " 'home_team_mean_midfield_score',\n",
              " 'away_team_mean_defense_score',\n",
              " 'away_team_mean_offense_score',\n",
              " 'away_team_mean_midfield_score']"
            ]
          },
          "metadata": {},
          "execution_count": 4
        }
      ],
      "source": [
        "# SPARK\n",
        "matchesp = spark.read.csv(\"/content/drive/MyDrive/Colab-Notebooks/international_matches.csv\", header=True, inferSchema=True)\n",
        "matchesp.columns\n",
        "# matchesp.show(5)\n",
        "\n",
        "# PANDAS\n",
        "# matchesd = pd.read_csv(\"/content/drive/MyDrive/Colab-Notebooks/international_matches.csv\")\n",
        "# matchesd.head()"
      ]
    },
    {
      "cell_type": "markdown",
      "metadata": {
        "id": "YMgD_oB7EPDF"
      },
      "source": [
        "world cup 2022 schedule dataset"
      ]
    },
    {
      "cell_type": "code",
      "execution_count": null,
      "metadata": {
        "id": "caA69CEMEOmd",
        "colab": {
          "base_uri": "https://localhost:8080/",
          "height": 428
        },
        "outputId": "2368662e-1ac5-4c25-9fe2-36f35e0b610f"
      },
      "outputs": [
        {
          "output_type": "stream",
          "name": "stdout",
          "text": [
            "+-----------+-----+-------------------+--------------------+-------------------+\n",
            "|       Team|Group|First match against|Second match against|Third match against|\n",
            "+-----------+-----+-------------------+--------------------+-------------------+\n",
            "|      Qatar|    A|            Ecuador|             Senegal|        Netherlands|\n",
            "|    Ecuador|    A|              Qatar|         Netherlands|            Senegal|\n",
            "|    Senegal|    A|        Netherlands|               Qatar|            Ecuador|\n",
            "|Netherlands|    A|            Senegal|             Ecuador|              Qatar|\n",
            "|    England|    B|            IR Iran|                 USA|              Wales|\n",
            "+-----------+-----+-------------------+--------------------+-------------------+\n",
            "only showing top 5 rows\n",
            "\n"
          ]
        },
        {
          "output_type": "execute_result",
          "data": {
            "text/plain": [
              "            Group First match against Second match against Third match against\n",
              "Team                                                                          \n",
              "Qatar           A             Ecuador              Senegal         Netherlands\n",
              "Ecuador         A               Qatar          Netherlands             Senegal\n",
              "Senegal         A         Netherlands                Qatar             Ecuador\n",
              "Netherlands     A             Senegal              Ecuador               Qatar\n",
              "England         B             IR Iran                  USA               Wales"
            ],
            "text/html": [
              "\n",
              "  <div id=\"df-1871d77b-9345-4a56-9f7d-d7d24ed30a8f\">\n",
              "    <div class=\"colab-df-container\">\n",
              "      <div>\n",
              "<style scoped>\n",
              "    .dataframe tbody tr th:only-of-type {\n",
              "        vertical-align: middle;\n",
              "    }\n",
              "\n",
              "    .dataframe tbody tr th {\n",
              "        vertical-align: top;\n",
              "    }\n",
              "\n",
              "    .dataframe thead th {\n",
              "        text-align: right;\n",
              "    }\n",
              "</style>\n",
              "<table border=\"1\" class=\"dataframe\">\n",
              "  <thead>\n",
              "    <tr style=\"text-align: right;\">\n",
              "      <th></th>\n",
              "      <th>Group</th>\n",
              "      <th>First match against</th>\n",
              "      <th>Second match against</th>\n",
              "      <th>Third match against</th>\n",
              "    </tr>\n",
              "    <tr>\n",
              "      <th>Team</th>\n",
              "      <th></th>\n",
              "      <th></th>\n",
              "      <th></th>\n",
              "      <th></th>\n",
              "    </tr>\n",
              "  </thead>\n",
              "  <tbody>\n",
              "    <tr>\n",
              "      <th>Qatar</th>\n",
              "      <td>A</td>\n",
              "      <td>Ecuador</td>\n",
              "      <td>Senegal</td>\n",
              "      <td>Netherlands</td>\n",
              "    </tr>\n",
              "    <tr>\n",
              "      <th>Ecuador</th>\n",
              "      <td>A</td>\n",
              "      <td>Qatar</td>\n",
              "      <td>Netherlands</td>\n",
              "      <td>Senegal</td>\n",
              "    </tr>\n",
              "    <tr>\n",
              "      <th>Senegal</th>\n",
              "      <td>A</td>\n",
              "      <td>Netherlands</td>\n",
              "      <td>Qatar</td>\n",
              "      <td>Ecuador</td>\n",
              "    </tr>\n",
              "    <tr>\n",
              "      <th>Netherlands</th>\n",
              "      <td>A</td>\n",
              "      <td>Senegal</td>\n",
              "      <td>Ecuador</td>\n",
              "      <td>Qatar</td>\n",
              "    </tr>\n",
              "    <tr>\n",
              "      <th>England</th>\n",
              "      <td>B</td>\n",
              "      <td>IR Iran</td>\n",
              "      <td>USA</td>\n",
              "      <td>Wales</td>\n",
              "    </tr>\n",
              "  </tbody>\n",
              "</table>\n",
              "</div>\n",
              "      <button class=\"colab-df-convert\" onclick=\"convertToInteractive('df-1871d77b-9345-4a56-9f7d-d7d24ed30a8f')\"\n",
              "              title=\"Convert this dataframe to an interactive table.\"\n",
              "              style=\"display:none;\">\n",
              "        \n",
              "  <svg xmlns=\"http://www.w3.org/2000/svg\" height=\"24px\"viewBox=\"0 0 24 24\"\n",
              "       width=\"24px\">\n",
              "    <path d=\"M0 0h24v24H0V0z\" fill=\"none\"/>\n",
              "    <path d=\"M18.56 5.44l.94 2.06.94-2.06 2.06-.94-2.06-.94-.94-2.06-.94 2.06-2.06.94zm-11 1L8.5 8.5l.94-2.06 2.06-.94-2.06-.94L8.5 2.5l-.94 2.06-2.06.94zm10 10l.94 2.06.94-2.06 2.06-.94-2.06-.94-.94-2.06-.94 2.06-2.06.94z\"/><path d=\"M17.41 7.96l-1.37-1.37c-.4-.4-.92-.59-1.43-.59-.52 0-1.04.2-1.43.59L10.3 9.45l-7.72 7.72c-.78.78-.78 2.05 0 2.83L4 21.41c.39.39.9.59 1.41.59.51 0 1.02-.2 1.41-.59l7.78-7.78 2.81-2.81c.8-.78.8-2.07 0-2.86zM5.41 20L4 18.59l7.72-7.72 1.47 1.35L5.41 20z\"/>\n",
              "  </svg>\n",
              "      </button>\n",
              "      \n",
              "  <style>\n",
              "    .colab-df-container {\n",
              "      display:flex;\n",
              "      flex-wrap:wrap;\n",
              "      gap: 12px;\n",
              "    }\n",
              "\n",
              "    .colab-df-convert {\n",
              "      background-color: #E8F0FE;\n",
              "      border: none;\n",
              "      border-radius: 50%;\n",
              "      cursor: pointer;\n",
              "      display: none;\n",
              "      fill: #1967D2;\n",
              "      height: 32px;\n",
              "      padding: 0 0 0 0;\n",
              "      width: 32px;\n",
              "    }\n",
              "\n",
              "    .colab-df-convert:hover {\n",
              "      background-color: #E2EBFA;\n",
              "      box-shadow: 0px 1px 2px rgba(60, 64, 67, 0.3), 0px 1px 3px 1px rgba(60, 64, 67, 0.15);\n",
              "      fill: #174EA6;\n",
              "    }\n",
              "\n",
              "    [theme=dark] .colab-df-convert {\n",
              "      background-color: #3B4455;\n",
              "      fill: #D2E3FC;\n",
              "    }\n",
              "\n",
              "    [theme=dark] .colab-df-convert:hover {\n",
              "      background-color: #434B5C;\n",
              "      box-shadow: 0px 1px 3px 1px rgba(0, 0, 0, 0.15);\n",
              "      filter: drop-shadow(0px 1px 2px rgba(0, 0, 0, 0.3));\n",
              "      fill: #FFFFFF;\n",
              "    }\n",
              "  </style>\n",
              "\n",
              "      <script>\n",
              "        const buttonEl =\n",
              "          document.querySelector('#df-1871d77b-9345-4a56-9f7d-d7d24ed30a8f button.colab-df-convert');\n",
              "        buttonEl.style.display =\n",
              "          google.colab.kernel.accessAllowed ? 'block' : 'none';\n",
              "\n",
              "        async function convertToInteractive(key) {\n",
              "          const element = document.querySelector('#df-1871d77b-9345-4a56-9f7d-d7d24ed30a8f');\n",
              "          const dataTable =\n",
              "            await google.colab.kernel.invokeFunction('convertToInteractive',\n",
              "                                                     [key], {});\n",
              "          if (!dataTable) return;\n",
              "\n",
              "          const docLinkHtml = 'Like what you see? Visit the ' +\n",
              "            '<a target=\"_blank\" href=https://colab.research.google.com/notebooks/data_table.ipynb>data table notebook</a>'\n",
              "            + ' to learn more about interactive tables.';\n",
              "          element.innerHTML = '';\n",
              "          dataTable['output_type'] = 'display_data';\n",
              "          await google.colab.output.renderOutput(dataTable, element);\n",
              "          const docLink = document.createElement('div');\n",
              "          docLink.innerHTML = docLinkHtml;\n",
              "          element.appendChild(docLink);\n",
              "        }\n",
              "      </script>\n",
              "    </div>\n",
              "  </div>\n",
              "  "
            ]
          },
          "metadata": {},
          "execution_count": 5
        }
      ],
      "source": [
        "# SPARK\n",
        "gamesp = spark.read.csv(\"/content/drive/MyDrive/Colab-Notebooks/Fifa worldcup 2022 Dataset.csv\", header=True, inferSchema=True)\n",
        "gamesp = gamesp.dropna(how='all')\n",
        "gamesp.show(5)\n",
        "\n",
        "# PANDAS\n",
        "gamesd = pd.read_csv(\"/content/drive/MyDrive/Colab-Notebooks/Fifa worldcup 2022 Dataset.csv\")\n",
        "gamesd = gamesd.loc[:, ['Team', 'Group', 'First match against', 'Second match against', 'Third match against']]\n",
        "gamesd = gamesd.dropna(how='all')\n",
        "gamesd = gamesd.set_index('Team')\n",
        "gamesd.head()"
      ]
    },
    {
      "cell_type": "code",
      "execution_count": null,
      "metadata": {
        "colab": {
          "base_uri": "https://localhost:8080/"
        },
        "id": "hK0DsWmcHZ9E",
        "outputId": "fdc66e44-2ab7-4b99-8eab-9ded93cbf4d4"
      },
      "outputs": [
        {
          "output_type": "stream",
          "name": "stdout",
          "text": [
            "+-------------------+---------+---------+-------------------+-------------------+-------------------+-------------------+---------------------------+---------------------------+---------------+---------------+--------------------+------+-------+----------------+---------+----------------+--------------------------+--------------------------+----------------------------+----------------------------+-----------------------------+----------------------------+----------------------------+-----------------------------+\n",
            "|               date|home_team|away_team|home_team_continent|away_team_continent|home_team_fifa_rank|away_team_fifa_rank|home_team_total_fifa_points|away_team_total_fifa_points|home_team_score|away_team_score|          tournament|  city|country|neutral_location|shoot_out|home_team_result|home_team_goalkeeper_score|away_team_goalkeeper_score|home_team_mean_defense_score|home_team_mean_offense_score|home_team_mean_midfield_score|away_team_mean_defense_score|away_team_mean_offense_score|away_team_mean_midfield_score|\n",
            "+-------------------+---------+---------+-------------------+-------------------+-------------------+-------------------+---------------------------+---------------------------+---------------+---------------+--------------------+------+-------+----------------+---------+----------------+--------------------------+--------------------------+----------------------------+----------------------------+-----------------------------+----------------------------+----------------------------+-----------------------------+\n",
            "|1993-08-08 00:00:00|  Bolivia|  Uruguay|      South America|      South America|                 59|                 22|                          0|                          0|              3|              1|FIFA World Cup qu...|La Paz|Bolivia|           false|       No|             Win|                      null|                      null|                        null|                        null|                         null|                        null|                        null|                         null|\n",
            "+-------------------+---------+---------+-------------------+-------------------+-------------------+-------------------+---------------------------+---------------------------+---------------+---------------+--------------------+------+-------+----------------+---------+----------------+--------------------------+--------------------------+----------------------------+----------------------------+-----------------------------+----------------------------+----------------------------+-----------------------------+\n",
            "only showing top 1 row\n",
            "\n"
          ]
        }
      ],
      "source": [
        "matchesp.show(1)"
      ]
    },
    {
      "cell_type": "code",
      "execution_count": null,
      "metadata": {
        "id": "9EtdgP-kHxY8"
      },
      "outputs": [],
      "source": [
        "matchesp.dtypes"
      ]
    },
    {
      "cell_type": "code",
      "execution_count": null,
      "metadata": {
        "colab": {
          "base_uri": "https://localhost:8080/"
        },
        "id": "-YH2-6JwRiiP",
        "outputId": "694c3085-72a6-4892-ed9a-88e827c863da"
      },
      "outputs": [
        {
          "output_type": "stream",
          "name": "stdout",
          "text": [
            "+----------+-------+-------+-------------------+-------------------+---------+---------+-----------+-----------+----------+----------+--------------------+------+-------+----------------+---------+-----------+--------------------------+--------------------------+----------------------------+----------------------------+-----------------------------+----------------------------+----------------------------+-----------------------------+\n",
            "|      date|   home|   away|home_team_continent|away_team_continent|home_rank|away_rank|home_points|away_points|home_score|away_score|          tournament|  city|country|neutral_location|shoot_out|home_result|home_team_goalkeeper_score|away_team_goalkeeper_score|home_team_mean_defense_score|home_team_mean_offense_score|home_team_mean_midfield_score|away_team_mean_defense_score|away_team_mean_offense_score|away_team_mean_midfield_score|\n",
            "+----------+-------+-------+-------------------+-------------------+---------+---------+-----------+-----------+----------+----------+--------------------+------+-------+----------------+---------+-----------+--------------------------+--------------------------+----------------------------+----------------------------+-----------------------------+----------------------------+----------------------------+-----------------------------+\n",
            "|1993-08-08|Bolivia|Uruguay|      South America|      South America|       59|       22|          0|          0|         3|         1|FIFA World Cup qu...|La Paz|Bolivia|           false|       No|        Win|                      null|                      null|                        null|                        null|                         null|                        null|                        null|                         null|\n",
            "+----------+-------+-------+-------------------+-------------------+---------+---------+-----------+-----------+----------+----------+--------------------+------+-------+----------------+---------+-----------+--------------------------+--------------------------+----------------------------+----------------------------+-----------------------------+----------------------------+----------------------------+-----------------------------+\n",
            "only showing top 1 row\n",
            "\n"
          ]
        }
      ],
      "source": [
        "# change timestamp to datetime. rename and select relevant columns\n",
        "matchesp = matchesp.withColumn(\"date\", to_date(\"date\")).withColumnRenamed(\n",
        "    \"home_team_fifa_rank\", \"home_rank\").withColumnRenamed(\"away_team_fifa_rank\", \"away_rank\").withColumnRenamed(\n",
        "        \"home_team_result\", \"home_result\").withColumnRenamed(\"home_team_total_fifa_points\", \"home_points\").withColumnRenamed(\n",
        "            \"away_team_total_fifa_points\", \"away_points\").withColumnRenamed(\"home_team_score\", \"home_score\").withColumnRenamed(\n",
        "                \"away_team_score\", \"away_score\").withColumnRenamed(\"home_team\", \"home\").withColumnRenamed(\"away_team\", \"away\")\n",
        "matchesp.show(1)\n",
        "matchesp = matchesp.select(\"date\", \"home\", \"away\", \"home_rank\", \"away_rank\", \"home_points\", \"away_points\", \"home_score\", \"away_score\", \"tournament\", \"neutral_location\", \"home_result\")"
      ]
    },
    {
      "cell_type": "code",
      "execution_count": null,
      "metadata": {
        "colab": {
          "base_uri": "https://localhost:8080/"
        },
        "id": "N-qLbWxilqkm",
        "outputId": "8f2e2729-c489-4acc-a1fa-9dde63880e64"
      },
      "outputs": [
        {
          "output_type": "stream",
          "name": "stdout",
          "text": [
            "+----------+--------+------------+---------+---------+-----------+-----------+----------+----------+--------------------+----------------+-----------+\n",
            "|      date|    home|        away|home_rank|away_rank|home_points|away_points|home_score|away_score|          tournament|neutral_location|home_result|\n",
            "+----------+--------+------------+---------+---------+-----------+-----------+----------+----------+--------------------+----------------+-----------+\n",
            "|1993-08-08| Bolivia|     Uruguay|       59|       22|          0|          0|         3|         1|FIFA World Cup qu...|           false|          3|\n",
            "|1993-08-08|  Brazil|      Mexico|        8|       14|          0|          0|         1|         1|            Friendly|           false|          1|\n",
            "|1993-08-08| Ecuador|   Venezuela|       35|       94|          0|          0|         5|         0|FIFA World Cup qu...|           false|          3|\n",
            "|1993-08-08|  Guinea|Sierra Leone|       65|       86|          0|          0|         1|         0|            Friendly|           false|          3|\n",
            "|1993-08-08|Paraguay|   Argentina|       67|        5|          0|          0|         1|         3|FIFA World Cup qu...|           false|          0|\n",
            "|1993-08-08|    Peru|    Colombia|       70|       19|          0|          0|         0|         1|FIFA World Cup qu...|           false|          0|\n",
            "|1993-08-08|Zimbabwe|    Eswatini|       50|      102|          0|          0|         2|         0|            Friendly|           false|          3|\n",
            "|1993-08-09|  Guinea|Sierra Leone|       65|       86|          0|          0|         4|         0|            Friendly|           false|          3|\n",
            "+----------+--------+------------+---------+---------+-----------+-----------+----------+----------+--------------------+----------------+-----------+\n",
            "only showing top 8 rows\n",
            "\n"
          ]
        },
        {
          "output_type": "execute_result",
          "data": {
            "text/plain": [
              "[('home_result', 'int')]"
            ]
          },
          "metadata": {},
          "execution_count": 8
        }
      ],
      "source": [
        "# Create integer representation of categorical column for correlation purpose\n",
        "matchesp = matchesp.withColumn(\"home_result\", F.when(F.col(\"home_result\") == \"Win\", 3).when(F.col(\"home_result\") == \"Draw\", 1).otherwise(0))\n",
        "matchesp.show(8)\n",
        "matchesp.select(\"home_result\").dtypes"
      ]
    },
    {
      "cell_type": "markdown",
      "metadata": {
        "id": "hGqm9ErYT2Sz"
      },
      "source": [
        "Correlation of international matches"
      ]
    },
    {
      "cell_type": "code",
      "execution_count": null,
      "metadata": {
        "colab": {
          "base_uri": "https://localhost:8080/",
          "height": 191
        },
        "id": "_vxR4zcQv1jF",
        "outputId": "4f600c7c-ecba-430f-df35-eba56532c233"
      },
      "outputs": [
        {
          "output_type": "execute_result",
          "data": {
            "text/plain": [
              "         date     home     away  home_rank  away_rank  home_points  \\\n",
              "0  1993-08-08  Bolivia  Uruguay         59         22            0   \n",
              "1  1993-08-08   Brazil   Mexico          8         14            0   \n",
              "\n",
              "   away_points  home_score  away_score                    tournament  \\\n",
              "0            0           3           1  FIFA World Cup qualification   \n",
              "1            0           1           1                      Friendly   \n",
              "\n",
              "   neutral_location  home_result  \n",
              "0             False            3  \n",
              "1             False            1  "
            ],
            "text/html": [
              "\n",
              "  <div id=\"df-94e8d724-8759-4ee0-8e17-e33e297d9b84\">\n",
              "    <div class=\"colab-df-container\">\n",
              "      <div>\n",
              "<style scoped>\n",
              "    .dataframe tbody tr th:only-of-type {\n",
              "        vertical-align: middle;\n",
              "    }\n",
              "\n",
              "    .dataframe tbody tr th {\n",
              "        vertical-align: top;\n",
              "    }\n",
              "\n",
              "    .dataframe thead th {\n",
              "        text-align: right;\n",
              "    }\n",
              "</style>\n",
              "<table border=\"1\" class=\"dataframe\">\n",
              "  <thead>\n",
              "    <tr style=\"text-align: right;\">\n",
              "      <th></th>\n",
              "      <th>date</th>\n",
              "      <th>home</th>\n",
              "      <th>away</th>\n",
              "      <th>home_rank</th>\n",
              "      <th>away_rank</th>\n",
              "      <th>home_points</th>\n",
              "      <th>away_points</th>\n",
              "      <th>home_score</th>\n",
              "      <th>away_score</th>\n",
              "      <th>tournament</th>\n",
              "      <th>neutral_location</th>\n",
              "      <th>home_result</th>\n",
              "    </tr>\n",
              "  </thead>\n",
              "  <tbody>\n",
              "    <tr>\n",
              "      <th>0</th>\n",
              "      <td>1993-08-08</td>\n",
              "      <td>Bolivia</td>\n",
              "      <td>Uruguay</td>\n",
              "      <td>59</td>\n",
              "      <td>22</td>\n",
              "      <td>0</td>\n",
              "      <td>0</td>\n",
              "      <td>3</td>\n",
              "      <td>1</td>\n",
              "      <td>FIFA World Cup qualification</td>\n",
              "      <td>False</td>\n",
              "      <td>3</td>\n",
              "    </tr>\n",
              "    <tr>\n",
              "      <th>1</th>\n",
              "      <td>1993-08-08</td>\n",
              "      <td>Brazil</td>\n",
              "      <td>Mexico</td>\n",
              "      <td>8</td>\n",
              "      <td>14</td>\n",
              "      <td>0</td>\n",
              "      <td>0</td>\n",
              "      <td>1</td>\n",
              "      <td>1</td>\n",
              "      <td>Friendly</td>\n",
              "      <td>False</td>\n",
              "      <td>1</td>\n",
              "    </tr>\n",
              "  </tbody>\n",
              "</table>\n",
              "</div>\n",
              "      <button class=\"colab-df-convert\" onclick=\"convertToInteractive('df-94e8d724-8759-4ee0-8e17-e33e297d9b84')\"\n",
              "              title=\"Convert this dataframe to an interactive table.\"\n",
              "              style=\"display:none;\">\n",
              "        \n",
              "  <svg xmlns=\"http://www.w3.org/2000/svg\" height=\"24px\"viewBox=\"0 0 24 24\"\n",
              "       width=\"24px\">\n",
              "    <path d=\"M0 0h24v24H0V0z\" fill=\"none\"/>\n",
              "    <path d=\"M18.56 5.44l.94 2.06.94-2.06 2.06-.94-2.06-.94-.94-2.06-.94 2.06-2.06.94zm-11 1L8.5 8.5l.94-2.06 2.06-.94-2.06-.94L8.5 2.5l-.94 2.06-2.06.94zm10 10l.94 2.06.94-2.06 2.06-.94-2.06-.94-.94-2.06-.94 2.06-2.06.94z\"/><path d=\"M17.41 7.96l-1.37-1.37c-.4-.4-.92-.59-1.43-.59-.52 0-1.04.2-1.43.59L10.3 9.45l-7.72 7.72c-.78.78-.78 2.05 0 2.83L4 21.41c.39.39.9.59 1.41.59.51 0 1.02-.2 1.41-.59l7.78-7.78 2.81-2.81c.8-.78.8-2.07 0-2.86zM5.41 20L4 18.59l7.72-7.72 1.47 1.35L5.41 20z\"/>\n",
              "  </svg>\n",
              "      </button>\n",
              "      \n",
              "  <style>\n",
              "    .colab-df-container {\n",
              "      display:flex;\n",
              "      flex-wrap:wrap;\n",
              "      gap: 12px;\n",
              "    }\n",
              "\n",
              "    .colab-df-convert {\n",
              "      background-color: #E8F0FE;\n",
              "      border: none;\n",
              "      border-radius: 50%;\n",
              "      cursor: pointer;\n",
              "      display: none;\n",
              "      fill: #1967D2;\n",
              "      height: 32px;\n",
              "      padding: 0 0 0 0;\n",
              "      width: 32px;\n",
              "    }\n",
              "\n",
              "    .colab-df-convert:hover {\n",
              "      background-color: #E2EBFA;\n",
              "      box-shadow: 0px 1px 2px rgba(60, 64, 67, 0.3), 0px 1px 3px 1px rgba(60, 64, 67, 0.15);\n",
              "      fill: #174EA6;\n",
              "    }\n",
              "\n",
              "    [theme=dark] .colab-df-convert {\n",
              "      background-color: #3B4455;\n",
              "      fill: #D2E3FC;\n",
              "    }\n",
              "\n",
              "    [theme=dark] .colab-df-convert:hover {\n",
              "      background-color: #434B5C;\n",
              "      box-shadow: 0px 1px 3px 1px rgba(0, 0, 0, 0.15);\n",
              "      filter: drop-shadow(0px 1px 2px rgba(0, 0, 0, 0.3));\n",
              "      fill: #FFFFFF;\n",
              "    }\n",
              "  </style>\n",
              "\n",
              "      <script>\n",
              "        const buttonEl =\n",
              "          document.querySelector('#df-94e8d724-8759-4ee0-8e17-e33e297d9b84 button.colab-df-convert');\n",
              "        buttonEl.style.display =\n",
              "          google.colab.kernel.accessAllowed ? 'block' : 'none';\n",
              "\n",
              "        async function convertToInteractive(key) {\n",
              "          const element = document.querySelector('#df-94e8d724-8759-4ee0-8e17-e33e297d9b84');\n",
              "          const dataTable =\n",
              "            await google.colab.kernel.invokeFunction('convertToInteractive',\n",
              "                                                     [key], {});\n",
              "          if (!dataTable) return;\n",
              "\n",
              "          const docLinkHtml = 'Like what you see? Visit the ' +\n",
              "            '<a target=\"_blank\" href=https://colab.research.google.com/notebooks/data_table.ipynb>data table notebook</a>'\n",
              "            + ' to learn more about interactive tables.';\n",
              "          element.innerHTML = '';\n",
              "          dataTable['output_type'] = 'display_data';\n",
              "          await google.colab.output.renderOutput(dataTable, element);\n",
              "          const docLink = document.createElement('div');\n",
              "          docLink.innerHTML = docLinkHtml;\n",
              "          element.appendChild(docLink);\n",
              "        }\n",
              "      </script>\n",
              "    </div>\n",
              "  </div>\n",
              "  "
            ]
          },
          "metadata": {},
          "execution_count": 9
        }
      ],
      "source": [
        "matchesp_corr = matchesp.toPandas()\n",
        "matchesp_corr.head(2)"
      ]
    },
    {
      "cell_type": "code",
      "execution_count": null,
      "metadata": {
        "colab": {
          "base_uri": "https://localhost:8080/",
          "height": 450
        },
        "id": "sN-9RPIRnNdl",
        "outputId": "bfe7a1f6-87e7-49a1-a7b2-197ac01b4593"
      },
      "outputs": [
        {
          "output_type": "execute_result",
          "data": {
            "text/plain": [
              "<matplotlib.axes._subplots.AxesSubplot at 0x7fa12e876a10>"
            ]
          },
          "metadata": {},
          "execution_count": 13
        },
        {
          "output_type": "display_data",
          "data": {
            "text/plain": [
              "<Figure size 1008x504 with 2 Axes>"
            ],
            "image/png": "[encoded data removed]"
          },
          "metadata": {
            "needs_background": "light"
          }
        }
      ],
      "source": [
        "fig, ax = plt.subplots()\n",
        "fig.set_size_inches(14, 7)\n",
        "corr1 = matchesp_corr.corr()\n",
        "sns.heatmap(corr1,annot=True)"
      ]
    },
    {
      "cell_type": "markdown",
      "metadata": {
        "id": "mZ8z9EWoRCs5"
      },
      "source": [
        "Feature Generation Pandas"
      ]
    },
    {
      "cell_type": "code",
      "execution_count": null,
      "metadata": {
        "colab": {
          "base_uri": "https://localhost:8080/",
          "height": 409
        },
        "id": "PkAw4QvD4kyv",
        "outputId": "40bccc47-70dd-4774-fb70-68e605377426"
      },
      "outputs": [
        {
          "output_type": "execute_result",
          "data": {
            "text/plain": [
              "         date      home          away  home_rank  away_rank  home_points  \\\n",
              "0  1993-08-08   Bolivia       Uruguay         59         22            0   \n",
              "1  1993-08-08    Brazil        Mexico          8         14            0   \n",
              "2  1993-08-08   Ecuador     Venezuela         35         94            0   \n",
              "3  1993-08-08    Guinea  Sierra Leone         65         86            0   \n",
              "4  1993-08-08  Paraguay     Argentina         67          5            0   \n",
              "\n",
              "   away_points  home_score  away_score                    tournament  \\\n",
              "0            0           3           1  FIFA World Cup qualification   \n",
              "1            0           1           1                      Friendly   \n",
              "2            0           5           0  FIFA World Cup qualification   \n",
              "3            0           1           0                      Friendly   \n",
              "4            0           1           3  FIFA World Cup qualification   \n",
              "\n",
              "   neutral_location  home_result  rank_diff  rank_avg  point_diff  stake  \n",
              "0             False            3         37      40.5           0   True  \n",
              "1             False            1         -6      11.0           0  False  \n",
              "2             False            3        -59      64.5           0   True  \n",
              "3             False            3        -21      75.5           0  False  \n",
              "4             False            0         62      36.0           0   True  "
            ],
            "text/html": [
              "\n",
              "  <div id=\"df-c4bbf159-fc20-4282-b639-0efe0a39869a\">\n",
              "    <div class=\"colab-df-container\">\n",
              "      <div>\n",
              "<style scoped>\n",
              "    .dataframe tbody tr th:only-of-type {\n",
              "        vertical-align: middle;\n",
              "    }\n",
              "\n",
              "    .dataframe tbody tr th {\n",
              "        vertical-align: top;\n",
              "    }\n",
              "\n",
              "    .dataframe thead th {\n",
              "        text-align: right;\n",
              "    }\n",
              "</style>\n",
              "<table border=\"1\" class=\"dataframe\">\n",
              "  <thead>\n",
              "    <tr style=\"text-align: right;\">\n",
              "      <th></th>\n",
              "      <th>date</th>\n",
              "      <th>home</th>\n",
              "      <th>away</th>\n",
              "      <th>home_rank</th>\n",
              "      <th>away_rank</th>\n",
              "      <th>home_points</th>\n",
              "      <th>away_points</th>\n",
              "      <th>home_score</th>\n",
              "      <th>away_score</th>\n",
              "      <th>tournament</th>\n",
              "      <th>neutral_location</th>\n",
              "      <th>home_result</th>\n",
              "      <th>rank_diff</th>\n",
              "      <th>rank_avg</th>\n",
              "      <th>point_diff</th>\n",
              "      <th>stake</th>\n",
              "    </tr>\n",
              "  </thead>\n",
              "  <tbody>\n",
              "    <tr>\n",
              "      <th>0</th>\n",
              "      <td>1993-08-08</td>\n",
              "      <td>Bolivia</td>\n",
              "      <td>Uruguay</td>\n",
              "      <td>59</td>\n",
              "      <td>22</td>\n",
              "      <td>0</td>\n",
              "      <td>0</td>\n",
              "      <td>3</td>\n",
              "      <td>1</td>\n",
              "      <td>FIFA World Cup qualification</td>\n",
              "      <td>False</td>\n",
              "      <td>3</td>\n",
              "      <td>37</td>\n",
              "      <td>40.5</td>\n",
              "      <td>0</td>\n",
              "      <td>True</td>\n",
              "    </tr>\n",
              "    <tr>\n",
              "      <th>1</th>\n",
              "      <td>1993-08-08</td>\n",
              "      <td>Brazil</td>\n",
              "      <td>Mexico</td>\n",
              "      <td>8</td>\n",
              "      <td>14</td>\n",
              "      <td>0</td>\n",
              "      <td>0</td>\n",
              "      <td>1</td>\n",
              "      <td>1</td>\n",
              "      <td>Friendly</td>\n",
              "      <td>False</td>\n",
              "      <td>1</td>\n",
              "      <td>-6</td>\n",
              "      <td>11.0</td>\n",
              "      <td>0</td>\n",
              "      <td>False</td>\n",
              "    </tr>\n",
              "    <tr>\n",
              "      <th>2</th>\n",
              "      <td>1993-08-08</td>\n",
              "      <td>Ecuador</td>\n",
              "      <td>Venezuela</td>\n",
              "      <td>35</td>\n",
              "      <td>94</td>\n",
              "      <td>0</td>\n",
              "      <td>0</td>\n",
              "      <td>5</td>\n",
              "      <td>0</td>\n",
              "      <td>FIFA World Cup qualification</td>\n",
              "      <td>False</td>\n",
              "      <td>3</td>\n",
              "      <td>-59</td>\n",
              "      <td>64.5</td>\n",
              "      <td>0</td>\n",
              "      <td>True</td>\n",
              "    </tr>\n",
              "    <tr>\n",
              "      <th>3</th>\n",
              "      <td>1993-08-08</td>\n",
              "      <td>Guinea</td>\n",
              "      <td>Sierra Leone</td>\n",
              "      <td>65</td>\n",
              "      <td>86</td>\n",
              "      <td>0</td>\n",
              "      <td>0</td>\n",
              "      <td>1</td>\n",
              "      <td>0</td>\n",
              "      <td>Friendly</td>\n",
              "      <td>False</td>\n",
              "      <td>3</td>\n",
              "      <td>-21</td>\n",
              "      <td>75.5</td>\n",
              "      <td>0</td>\n",
              "      <td>False</td>\n",
              "    </tr>\n",
              "    <tr>\n",
              "      <th>4</th>\n",
              "      <td>1993-08-08</td>\n",
              "      <td>Paraguay</td>\n",
              "      <td>Argentina</td>\n",
              "      <td>67</td>\n",
              "      <td>5</td>\n",
              "      <td>0</td>\n",
              "      <td>0</td>\n",
              "      <td>1</td>\n",
              "      <td>3</td>\n",
              "      <td>FIFA World Cup qualification</td>\n",
              "      <td>False</td>\n",
              "      <td>0</td>\n",
              "      <td>62</td>\n",
              "      <td>36.0</td>\n",
              "      <td>0</td>\n",
              "      <td>True</td>\n",
              "    </tr>\n",
              "  </tbody>\n",
              "</table>\n",
              "</div>\n",
              "      <button class=\"colab-df-convert\" onclick=\"convertToInteractive('df-c4bbf159-fc20-4282-b639-0efe0a39869a')\"\n",
              "              title=\"Convert this dataframe to an interactive table.\"\n",
              "              style=\"display:none;\">\n",
              "        \n",
              "  <svg xmlns=\"http://www.w3.org/2000/svg\" height=\"24px\"viewBox=\"0 0 24 24\"\n",
              "       width=\"24px\">\n",
              "    <path d=\"M0 0h24v24H0V0z\" fill=\"none\"/>\n",
              "    <path d=\"M18.56 5.44l.94 2.06.94-2.06 2.06-.94-2.06-.94-.94-2.06-.94 2.06-2.06.94zm-11 1L8.5 8.5l.94-2.06 2.06-.94-2.06-.94L8.5 2.5l-.94 2.06-2.06.94zm10 10l.94 2.06.94-2.06 2.06-.94-2.06-.94-.94-2.06-.94 2.06-2.06.94z\"/><path d=\"M17.41 7.96l-1.37-1.37c-.4-.4-.92-.59-1.43-.59-.52 0-1.04.2-1.43.59L10.3 9.45l-7.72 7.72c-.78.78-.78 2.05 0 2.83L4 21.41c.39.39.9.59 1.41.59.51 0 1.02-.2 1.41-.59l7.78-7.78 2.81-2.81c.8-.78.8-2.07 0-2.86zM5.41 20L4 18.59l7.72-7.72 1.47 1.35L5.41 20z\"/>\n",
              "  </svg>\n",
              "      </button>\n",
              "      \n",
              "  <style>\n",
              "    .colab-df-container {\n",
              "      display:flex;\n",
              "      flex-wrap:wrap;\n",
              "      gap: 12px;\n",
              "    }\n",
              "\n",
              "    .colab-df-convert {\n",
              "      background-color: #E8F0FE;\n",
              "      border: none;\n",
              "      border-radius: 50%;\n",
              "      cursor: pointer;\n",
              "      display: none;\n",
              "      fill: #1967D2;\n",
              "      height: 32px;\n",
              "      padding: 0 0 0 0;\n",
              "      width: 32px;\n",
              "    }\n",
              "\n",
              "    .colab-df-convert:hover {\n",
              "      background-color: #E2EBFA;\n",
              "      box-shadow: 0px 1px 2px rgba(60, 64, 67, 0.3), 0px 1px 3px 1px rgba(60, 64, 67, 0.15);\n",
              "      fill: #174EA6;\n",
              "    }\n",
              "\n",
              "    [theme=dark] .colab-df-convert {\n",
              "      background-color: #3B4455;\n",
              "      fill: #D2E3FC;\n",
              "    }\n",
              "\n",
              "    [theme=dark] .colab-df-convert:hover {\n",
              "      background-color: #434B5C;\n",
              "      box-shadow: 0px 1px 3px 1px rgba(0, 0, 0, 0.15);\n",
              "      filter: drop-shadow(0px 1px 2px rgba(0, 0, 0, 0.3));\n",
              "      fill: #FFFFFF;\n",
              "    }\n",
              "  </style>\n",
              "\n",
              "      <script>\n",
              "        const buttonEl =\n",
              "          document.querySelector('#df-c4bbf159-fc20-4282-b639-0efe0a39869a button.colab-df-convert');\n",
              "        buttonEl.style.display =\n",
              "          google.colab.kernel.accessAllowed ? 'block' : 'none';\n",
              "\n",
              "        async function convertToInteractive(key) {\n",
              "          const element = document.querySelector('#df-c4bbf159-fc20-4282-b639-0efe0a39869a');\n",
              "          const dataTable =\n",
              "            await google.colab.kernel.invokeFunction('convertToInteractive',\n",
              "                                                     [key], {});\n",
              "          if (!dataTable) return;\n",
              "\n",
              "          const docLinkHtml = 'Like what you see? Visit the ' +\n",
              "            '<a target=\"_blank\" href=https://colab.research.google.com/notebooks/data_table.ipynb>data table notebook</a>'\n",
              "            + ' to learn more about interactive tables.';\n",
              "          element.innerHTML = '';\n",
              "          dataTable['output_type'] = 'display_data';\n",
              "          await google.colab.output.renderOutput(dataTable, element);\n",
              "          const docLink = document.createElement('div');\n",
              "          docLink.innerHTML = docLinkHtml;\n",
              "          element.appendChild(docLink);\n",
              "        }\n",
              "      </script>\n",
              "    </div>\n",
              "  </div>\n",
              "  "
            ]
          },
          "metadata": {},
          "execution_count": 10
        }
      ],
      "source": [
        "matchesd = pd.DataFrame(matchesp_corr)\n",
        "matchesd[\"rank_diff\"] = matchesd[\"home_rank\"] - matchesd[\"away_rank\"]\n",
        "matchesd[\"rank_avg\"] = (matchesd[\"home_rank\"] + matchesd['away_rank']) / 2\n",
        "matchesd[\"point_diff\"] = matchesd[\"home_points\"] - matchesd['away_points']\n",
        "matchesd[\"stake\"] = matchesd['tournament'] != 'Friendly'\n",
        "matchesd.head()"
      ]
    },
    {
      "cell_type": "code",
      "execution_count": null,
      "metadata": {
        "colab": {
          "base_uri": "https://localhost:8080/",
          "height": 206
        },
        "id": "H-7EOORyLuAo",
        "outputId": "1401b729-73ba-4416-f53d-67c86b1aae24"
      },
      "outputs": [
        {
          "output_type": "execute_result",
          "data": {
            "text/plain": [
              "   rank_diff  point_diff  neutral_location  rank_avg  stake\n",
              "0         37           0             False      40.5   True\n",
              "1         -6           0             False      11.0  False\n",
              "2        -59           0             False      64.5   True\n",
              "3        -21           0             False      75.5  False\n",
              "4         62           0             False      36.0   True"
            ],
            "text/html": [
              "\n",
              "  <div id=\"df-bf44d103-9532-4d82-9ae0-5ca02b451ded\">\n",
              "    <div class=\"colab-df-container\">\n",
              "      <div>\n",
              "<style scoped>\n",
              "    .dataframe tbody tr th:only-of-type {\n",
              "        vertical-align: middle;\n",
              "    }\n",
              "\n",
              "    .dataframe tbody tr th {\n",
              "        vertical-align: top;\n",
              "    }\n",
              "\n",
              "    .dataframe thead th {\n",
              "        text-align: right;\n",
              "    }\n",
              "</style>\n",
              "<table border=\"1\" class=\"dataframe\">\n",
              "  <thead>\n",
              "    <tr style=\"text-align: right;\">\n",
              "      <th></th>\n",
              "      <th>rank_diff</th>\n",
              "      <th>point_diff</th>\n",
              "      <th>neutral_location</th>\n",
              "      <th>rank_avg</th>\n",
              "      <th>stake</th>\n",
              "    </tr>\n",
              "  </thead>\n",
              "  <tbody>\n",
              "    <tr>\n",
              "      <th>0</th>\n",
              "      <td>37</td>\n",
              "      <td>0</td>\n",
              "      <td>False</td>\n",
              "      <td>40.5</td>\n",
              "      <td>True</td>\n",
              "    </tr>\n",
              "    <tr>\n",
              "      <th>1</th>\n",
              "      <td>-6</td>\n",
              "      <td>0</td>\n",
              "      <td>False</td>\n",
              "      <td>11.0</td>\n",
              "      <td>False</td>\n",
              "    </tr>\n",
              "    <tr>\n",
              "      <th>2</th>\n",
              "      <td>-59</td>\n",
              "      <td>0</td>\n",
              "      <td>False</td>\n",
              "      <td>64.5</td>\n",
              "      <td>True</td>\n",
              "    </tr>\n",
              "    <tr>\n",
              "      <th>3</th>\n",
              "      <td>-21</td>\n",
              "      <td>0</td>\n",
              "      <td>False</td>\n",
              "      <td>75.5</td>\n",
              "      <td>False</td>\n",
              "    </tr>\n",
              "    <tr>\n",
              "      <th>4</th>\n",
              "      <td>62</td>\n",
              "      <td>0</td>\n",
              "      <td>False</td>\n",
              "      <td>36.0</td>\n",
              "      <td>True</td>\n",
              "    </tr>\n",
              "  </tbody>\n",
              "</table>\n",
              "</div>\n",
              "      <button class=\"colab-df-convert\" onclick=\"convertToInteractive('df-bf44d103-9532-4d82-9ae0-5ca02b451ded')\"\n",
              "              title=\"Convert this dataframe to an interactive table.\"\n",
              "              style=\"display:none;\">\n",
              "        \n",
              "  <svg xmlns=\"http://www.w3.org/2000/svg\" height=\"24px\"viewBox=\"0 0 24 24\"\n",
              "       width=\"24px\">\n",
              "    <path d=\"M0 0h24v24H0V0z\" fill=\"none\"/>\n",
              "    <path d=\"M18.56 5.44l.94 2.06.94-2.06 2.06-.94-2.06-.94-.94-2.06-.94 2.06-2.06.94zm-11 1L8.5 8.5l.94-2.06 2.06-.94-2.06-.94L8.5 2.5l-.94 2.06-2.06.94zm10 10l.94 2.06.94-2.06 2.06-.94-2.06-.94-.94-2.06-.94 2.06-2.06.94z\"/><path d=\"M17.41 7.96l-1.37-1.37c-.4-.4-.92-.59-1.43-.59-.52 0-1.04.2-1.43.59L10.3 9.45l-7.72 7.72c-.78.78-.78 2.05 0 2.83L4 21.41c.39.39.9.59 1.41.59.51 0 1.02-.2 1.41-.59l7.78-7.78 2.81-2.81c.8-.78.8-2.07 0-2.86zM5.41 20L4 18.59l7.72-7.72 1.47 1.35L5.41 20z\"/>\n",
              "  </svg>\n",
              "      </button>\n",
              "      \n",
              "  <style>\n",
              "    .colab-df-container {\n",
              "      display:flex;\n",
              "      flex-wrap:wrap;\n",
              "      gap: 12px;\n",
              "    }\n",
              "\n",
              "    .colab-df-convert {\n",
              "      background-color: #E8F0FE;\n",
              "      border: none;\n",
              "      border-radius: 50%;\n",
              "      cursor: pointer;\n",
              "      display: none;\n",
              "      fill: #1967D2;\n",
              "      height: 32px;\n",
              "      padding: 0 0 0 0;\n",
              "      width: 32px;\n",
              "    }\n",
              "\n",
              "    .colab-df-convert:hover {\n",
              "      background-color: #E2EBFA;\n",
              "      box-shadow: 0px 1px 2px rgba(60, 64, 67, 0.3), 0px 1px 3px 1px rgba(60, 64, 67, 0.15);\n",
              "      fill: #174EA6;\n",
              "    }\n",
              "\n",
              "    [theme=dark] .colab-df-convert {\n",
              "      background-color: #3B4455;\n",
              "      fill: #D2E3FC;\n",
              "    }\n",
              "\n",
              "    [theme=dark] .colab-df-convert:hover {\n",
              "      background-color: #434B5C;\n",
              "      box-shadow: 0px 1px 3px 1px rgba(0, 0, 0, 0.15);\n",
              "      filter: drop-shadow(0px 1px 2px rgba(0, 0, 0, 0.3));\n",
              "      fill: #FFFFFF;\n",
              "    }\n",
              "  </style>\n",
              "\n",
              "      <script>\n",
              "        const buttonEl =\n",
              "          document.querySelector('#df-bf44d103-9532-4d82-9ae0-5ca02b451ded button.colab-df-convert');\n",
              "        buttonEl.style.display =\n",
              "          google.colab.kernel.accessAllowed ? 'block' : 'none';\n",
              "\n",
              "        async function convertToInteractive(key) {\n",
              "          const element = document.querySelector('#df-bf44d103-9532-4d82-9ae0-5ca02b451ded');\n",
              "          const dataTable =\n",
              "            await google.colab.kernel.invokeFunction('convertToInteractive',\n",
              "                                                     [key], {});\n",
              "          if (!dataTable) return;\n",
              "\n",
              "          const docLinkHtml = 'Like what you see? Visit the ' +\n",
              "            '<a target=\"_blank\" href=https://colab.research.google.com/notebooks/data_table.ipynb>data table notebook</a>'\n",
              "            + ' to learn more about interactive tables.';\n",
              "          element.innerHTML = '';\n",
              "          dataTable['output_type'] = 'display_data';\n",
              "          await google.colab.output.renderOutput(dataTable, element);\n",
              "          const docLink = document.createElement('div');\n",
              "          docLink.innerHTML = docLinkHtml;\n",
              "          element.appendChild(docLink);\n",
              "        }\n",
              "      </script>\n",
              "    </div>\n",
              "  </div>\n",
              "  "
            ]
          },
          "metadata": {},
          "execution_count": 11
        }
      ],
      "source": [
        "features = matchesd[[\"rank_diff\", \"point_diff\", \"neutral_location\", \"rank_avg\", \"stake\"]]\n",
        "features.head()"
      ]
    },
    {
      "cell_type": "markdown",
      "metadata": {
        "id": "-tdCOsaYRJAT"
      },
      "source": [
        "Feature Generation PySpark"
      ]
    },
    {
      "cell_type": "code",
      "execution_count": null,
      "metadata": {
        "colab": {
          "base_uri": "https://localhost:8080/"
        },
        "id": "szJnF5sQROd8",
        "outputId": "77733664-1c6c-46dd-bbd2-5ef879f801ae"
      },
      "outputs": [
        {
          "output_type": "stream",
          "name": "stdout",
          "text": [
            "+----------+-------+-------+---------+---------+-----------+-----------+----------+----------+--------------------+----------------+-----------+\n",
            "|      date|   home|   away|home_rank|away_rank|home_points|away_points|home_score|away_score|          tournament|neutral_location|home_result|\n",
            "+----------+-------+-------+---------+---------+-----------+-----------+----------+----------+--------------------+----------------+-----------+\n",
            "|1993-08-08|Bolivia|Uruguay|       59|       22|          0|          0|         3|         1|FIFA World Cup qu...|           false|          3|\n",
            "+----------+-------+-------+---------+---------+-----------+-----------+----------+----------+--------------------+----------------+-----------+\n",
            "only showing top 1 row\n",
            "\n",
            "+----------+-------+-------+---------+---------+-----------+-----------+----------+----------+--------------------+----------------+-----------+---------+--------+----------+-----+\n",
            "|      date|   home|   away|home_rank|away_rank|home_points|away_points|home_score|away_score|          tournament|neutral_location|home_result|rank_diff|rank_avg|point_diff|stake|\n",
            "+----------+-------+-------+---------+---------+-----------+-----------+----------+----------+--------------------+----------------+-----------+---------+--------+----------+-----+\n",
            "|1993-08-08|Bolivia|Uruguay|       59|       22|          0|          0|         3|         1|FIFA World Cup qu...|           false|          3|       37|    40.5|         0| true|\n",
            "|1993-08-08| Brazil| Mexico|        8|       14|          0|          0|         1|         1|            Friendly|           false|          1|       -6|    11.0|         0|false|\n",
            "+----------+-------+-------+---------+---------+-----------+-----------+----------+----------+--------------------+----------------+-----------+---------+--------+----------+-----+\n",
            "only showing top 2 rows\n",
            "\n"
          ]
        }
      ],
      "source": [
        "#first way\n",
        "matchesp.show(1)\n",
        "features_spark = spark.createDataFrame(matchesd)\n",
        "features_spark.show(2)"
      ]
    },
    {
      "cell_type": "code",
      "execution_count": null,
      "metadata": {
        "colab": {
          "base_uri": "https://localhost:8080/"
        },
        "id": "YMOcOEA5a40p",
        "outputId": "1786e384-bd9e-453a-bc7c-76b2c34cd757"
      },
      "outputs": [
        {
          "output_type": "stream",
          "name": "stdout",
          "text": [
            "+----------+-------+-------+---------+---------+-----------+-----------+----------+----------+--------------------+----------------+-----------+---------+--------+----------+-----+----------+\n",
            "|      date|   home|   away|home_rank|away_rank|home_points|away_points|home_score|away_score|          tournament|neutral_location|home_result|rank_diff|rank_avg|point_diff|stake|score_diff|\n",
            "+----------+-------+-------+---------+---------+-----------+-----------+----------+----------+--------------------+----------------+-----------+---------+--------+----------+-----+----------+\n",
            "|1993-08-08|Bolivia|Uruguay|       59|       22|          0|          0|         3|         1|FIFA World Cup qu...|           false|          3|       37|    40.5|         0| true|         2|\n",
            "+----------+-------+-------+---------+---------+-----------+-----------+----------+----------+--------------------+----------------+-----------+---------+--------+----------+-----+----------+\n",
            "only showing top 1 row\n",
            "\n",
            "+---------+----------+----------------+--------+-----+\n",
            "|rank_diff|point_diff|neutral_location|rank_avg|stake|\n",
            "+---------+----------+----------------+--------+-----+\n",
            "|       37|         0|           false|    40.5| true|\n",
            "|       -6|         0|           false|    11.0|false|\n",
            "|      -59|         0|           false|    64.5| true|\n",
            "+---------+----------+----------------+--------+-----+\n",
            "only showing top 3 rows\n",
            "\n"
          ]
        }
      ],
      "source": [
        "#second way\n",
        "matchesp = matchesp.withColumn(\"rank_diff\", matchesp[\"home_rank\"] - matchesp[\"away_rank\"])\n",
        "matchesp = matchesp.withColumns({\"rank_avg\": (matchesp[\"home_rank\"] + matchesp[\"away_rank\"]) / 2,\n",
        "                                 \"point_diff\": matchesp[\"home_points\"] + matchesp[\"away_points\"],\n",
        "                                 \"stake\" : matchesp[\"tournament\"] != \"Friendly\", \"score_diff\" : matchesp[\"home_score\"] - matchesp[\"away_score\"]})\n",
        "matchesp.show(1)\n",
        "features_sp = matchesp[[\"rank_diff\", \"point_diff\", \"neutral_location\", \"rank_avg\", \"stake\"]]\n",
        "features_sp.show(3)"
      ]
    },
    {
      "cell_type": "markdown",
      "metadata": {
        "id": "Ogcmg_NwRkxo"
      },
      "source": [
        "Define functions for selected features and target\n",
        "\n",
        "---\n",
        "\n"
      ]
    },
    {
      "cell_type": "code",
      "execution_count": null,
      "metadata": {
        "id": "H53svxqmRj1v"
      },
      "outputs": [],
      "source": [
        "from pyspark.sql.types import StructType\n",
        "def init_feat(matchesp):\n",
        "  features_spdf = matchesp[[\"rank_diff\", \"point_diff\", \"neutral_location\", \"rank_avg\", \"stake\"]]\n",
        "  # features_spdf2 = matchesp[[\"home_rank\", \"away_rank\", \"home_points\", \"away_points\", \"neutral_location\"]]\n",
        "  # schema = StructType(features_spdf2.schema.fields + features_spdf.schema.fields)\n",
        "  # features_spdf3 = features_spdf2.rdd.zip(features_spdf.rdd).map(lambda x : x[0] + x[1])#matchesp[[ \"home_points\", \"away_points\", \"neutral_location\", \"rank_diff\", \"point_diff\", \"rank_avg\", \"stake\"]]\n",
        "  # features_spdf3 = spark.createDataFrame(features_spdf3, schema)\n",
        "  # cols_new = []\n",
        "  # seen = set()\n",
        "  # for c in features_spdf3.columns:\n",
        "  #   cols_new.append('{}_dup'.format(c) if c in seen else c)\n",
        "  #   seen.add(c)\n",
        "  # features_spdf3 = features_spdf3.toDF(*cols_new).select(*[c for c in cols_new if not c.endswith('_dup')])\n",
        "\n",
        "  # print(cols_new)\n",
        "  # features_spdf3.show()\n",
        "  chosen_feat = features_spdf.select(\"*\")\n",
        "  return chosen_feat\n",
        "\n",
        "def targ_feat(matchesp):\n",
        "  chosen_targ = matchesp[[\"home_result\"]]\n",
        "  return chosen_targ\n",
        "\n",
        "x = init_feat(matchesp)\n",
        "y = targ_feat(matchesp)"
      ]
    },
    {
      "cell_type": "code",
      "execution_count": null,
      "metadata": {
        "id": "OwXgNHmvl2Z_"
      },
      "outputs": [],
      "source": [
        "x = init_feat(matchesp).collect()\n",
        "y = targ_feat(matchesp).collect()"
      ]
    },
    {
      "cell_type": "markdown",
      "metadata": {
        "id": "Lyae7xWdfyMH"
      },
      "source": [
        "Split data and use XGBOOST for training and testing"
      ]
    },
    {
      "cell_type": "code",
      "execution_count": null,
      "metadata": {
        "id": "SjQrycB1SHJJ"
      },
      "outputs": [],
      "source": [
        "import xgboost\n",
        "import xgboost as xgb\n",
        "from sklearn.model_selection import GridSearchCV\n",
        "from xgboost import XGBClassifier\n",
        "from sklearn.model_selection import train_test_split\n",
        "from sklearn.metrics import accuracy_score\n",
        "from sklearn.model_selection import KFold\n",
        "from sklearn.model_selection import cross_val_score\n",
        "from sklearn.model_selection import StratifiedKFold"
      ]
    },
    {
      "cell_type": "code",
      "execution_count": null,
      "metadata": {
        "id": "qN6LG5uOf20O"
      },
      "outputs": [],
      "source": [
        "# y = matchesp.randomSplit\n",
        "x_train,x_test,y_train,y_test = train_test_split(x,y,test_size=0.3, random_state=0)\n",
        "\n"
      ]
    },
    {
      "cell_type": "code",
      "execution_count": null,
      "metadata": {
        "id": "DMf1GDw7lU3s"
      },
      "outputs": [],
      "source": [
        "x_train = np.asarray(x_train)\n",
        "y_train = np.ravel(y_train)"
      ]
    },
    {
      "cell_type": "code",
      "execution_count": null,
      "metadata": {
        "colab": {
          "base_uri": "https://localhost:8080/"
        },
        "id": "vxMPUY_PGyw7",
        "outputId": "9a4383b5-4a8a-4482-baad-18283974e2b5"
      },
      "outputs": [
        {
          "output_type": "execute_result",
          "data": {
            "text/plain": [
              "XGBClassifier(objective='multi:softprob')"
            ]
          },
          "metadata": {},
          "execution_count": 19
        }
      ],
      "source": [
        "model = xgboost.XGBClassifier(random_state=0)\n",
        "model.fit(x_train, y_train)"
      ]
    },
    {
      "cell_type": "code",
      "execution_count": null,
      "metadata": {
        "colab": {
          "base_uri": "https://localhost:8080/"
        },
        "id": "taLV0Uf6Txfx",
        "outputId": "5d80bc13-fddd-4749-de61-312edfdb5163"
      },
      "outputs": [
        {
          "output_type": "execute_result",
          "data": {
            "text/plain": [
              "0.585481398913195"
            ]
          },
          "metadata": {},
          "execution_count": 20
        }
      ],
      "source": [
        "model.score(x_test,y_test)"
      ]
    },
    {
      "cell_type": "code",
      "execution_count": null,
      "metadata": {
        "colab": {
          "base_uri": "https://localhost:8080/"
        },
        "id": "kicJLRnmCYa6",
        "outputId": "1e7e3656-49cd-40fb-b995-b981065ac2f9"
      },
      "outputs": [
        {
          "output_type": "stream",
          "name": "stdout",
          "text": [
            "[[0.0702607  0.09612789 0.83361137]\n",
            " [0.37890688 0.2777806  0.34331253]\n",
            " [0.05818325 0.12259782 0.81921893]\n",
            " ...\n",
            " [0.29858887 0.2772295  0.4241816 ]\n",
            " [0.26216552 0.2707526  0.46708184]\n",
            " [0.22951345 0.40010914 0.3703774 ]]\n"
          ]
        },
        {
          "output_type": "execute_result",
          "data": {
            "text/plain": [
              "0.83361137"
            ]
          },
          "metadata": {},
          "execution_count": 85
        }
      ],
      "source": [
        "y_pred = model.predict(x_test)\n",
        "predictions = np.round(y_pred)\n",
        "# predictions\n",
        "u = model.predict_proba(data=x_test)\n",
        "v = model.predict_proba(data=x_test)[:,2][0]\n",
        "print(u[:777])\n",
        "v"
      ]
    },
    {
      "cell_type": "code",
      "execution_count": null,
      "metadata": {
        "colab": {
          "base_uri": "https://localhost:8080/"
        },
        "id": "v79FcNLkDRE5",
        "outputId": "4284f94a-de94-4ebd-dcc8-896646dac24d"
      },
      "outputs": [
        {
          "output_type": "stream",
          "name": "stdout",
          "text": [
            "Accuracy: 58.55%\n",
            "[3 1 0 ... 3 3 3]\n",
            "30\n",
            "30\n"
          ]
        },
        {
          "output_type": "execute_result",
          "data": {
            "text/plain": [
              "array([ 776, 1141, 1270, 1490, 1641, 1936, 2635, 2676, 2874, 3225, 3490,\n",
              "       3665, 3724, 3744, 4014, 4109, 4247, 4549, 4712, 5059, 5105, 5142,\n",
              "       5537, 6049, 6075, 6114, 6755, 6817, 6957, 7033])"
            ]
          },
          "metadata": {},
          "execution_count": 21
        }
      ],
      "source": [
        "accuracy = accuracy_score(y_test, predictions)\n",
        "print(\"Accuracy: %.2f%%\" % (accuracy * 100.0))\n",
        "w = predictions[775:]\n",
        "print(w)\n",
        "count = 0\n",
        "drawIndex = []\n",
        "for i, x in enumerate(predictions):\n",
        "  if x == 1:\n",
        "    count+=1\n",
        "    drawIndex.append(i)\n",
        "print(count)\n",
        "print(len(drawIndex))\n",
        "np.asarray(drawIndex)\n",
        "# drawIndex = array([ 776, 1141, 1270, 1490, 1641, 1936, 2635, 2676, 2874, 3225, 3490,\n",
        "#        3665, 3724, 3744, 4014, 4109, 4247, 4549, 4712, 5059, 5105, 5142,\n",
        "#        5537, 6049, 6075, 6114, 6755, 6817, 6957, 7033])"
      ]
    },
    {
      "cell_type": "markdown",
      "metadata": {
        "id": "vxZA-wA6VqpP"
      },
      "source": [
        "Accuracy with K_Fold CV"
      ]
    },
    {
      "cell_type": "code",
      "execution_count": null,
      "metadata": {
        "id": "2nbuykxzV0Ve"
      },
      "outputs": [],
      "source": [
        "model = XGBClassifier(random_state=0)\n",
        "kfold = KFold(n_splits=10, shuffle=True, random_state=0)\n",
        "results = cross_val_score(model, x_train, np.ravel(y_train), cv=kfold)\n",
        "print(\"Accuracy: %.2f%% (%.2f%%)\" % (results.mean()*100, results.std()*100))"
      ]
    },
    {
      "cell_type": "markdown",
      "metadata": {
        "id": "YhHjiMY6iO_B"
      },
      "source": [
        "Accuracy with Stratified K_Fold CV"
      ]
    },
    {
      "cell_type": "code",
      "execution_count": null,
      "metadata": {
        "id": "3Qs6IUpLiWZS"
      },
      "outputs": [],
      "source": [
        "model = xgboost.XGBClassifier(random_state=0)\n",
        "kfold = StratifiedKFold(n_splits=10, shuffle=True, random_state=0)\n",
        "results = cross_val_score(model, x_train, np.ravel(y_train), cv=kfold)\n",
        "print(\"Accuracy: %.2f%% (%.2f%%)\" % (results.mean()*100, results.std()*100))"
      ]
    },
    {
      "cell_type": "markdown",
      "metadata": {
        "id": "gVEzgWkwckio"
      },
      "source": [
        "Importance Of Features"
      ]
    },
    {
      "cell_type": "code",
      "execution_count": null,
      "metadata": {
        "colab": {
          "base_uri": "https://localhost:8080/",
          "height": 470
        },
        "id": "0puCylDxcg5y",
        "outputId": "2fad095b-dc8a-411c-c1f8-d566dbf4398b"
      },
      "outputs": [
        {
          "output_type": "stream",
          "name": "stdout",
          "text": [
            "+----------------+-------------------+\n",
            "|         feature|         importance|\n",
            "+----------------+-------------------+\n",
            "|       rank_diff|  0.605817437171936|\n",
            "|neutral_location|0.16039200127124786|\n",
            "|           stake|0.11861906200647354|\n",
            "|        rank_avg|0.06842592358589172|\n",
            "|      point_diff|0.04674556851387024|\n",
            "+----------------+-------------------+\n",
            "\n"
          ]
        },
        {
          "output_type": "execute_result",
          "data": {
            "text/plain": [
              "<matplotlib.axes._subplots.AxesSubplot at 0x7f2773e31350>"
            ]
          },
          "metadata": {},
          "execution_count": 21
        },
        {
          "output_type": "display_data",
          "data": {
            "text/plain": [
              "<Figure size 432x288 with 1 Axes>"
            ],
            "image/png": "[encoded data removed]"
          },
          "metadata": {
            "needs_background": "light"
          }
        }
      ],
      "source": [
        "from pyspark.sql import Row\n",
        "\n",
        "# def importance_of_features(model):\n",
        "#     features = [{\"feature\" : init_feat(matchesp).columns,\n",
        "#                  \"importance\" : model.feature_importances_.tolist()}]\n",
        "#     features_df = spark.createDataFrame(features)\n",
        "#     features_df = features_df.selectExpr('inline(arrays_zip(*))')\n",
        "#     features_df = features_df.sort(['importance'], ascending=True, inplace=True)\n",
        "#     # features_df = features_df.groupBy('feature')\n",
        "#     features_pd = features_df.toPandas()\n",
        "#     features_pd.set_index('feature', inplace=True)\n",
        "#     return features_pd.plot(kind='pie', figsize=(6,6), subplots=True)\n",
        "# importance_of_features(model)\n",
        "def importance_of_features(model):\n",
        "      features = [{\"feature\" : init_feat(matchesp).columns,\n",
        "                      \"importance\" : model.feature_importances_.tolist()}]\n",
        "      features_df = spark.createDataFrame(features)\n",
        "      features_df = features_df.selectExpr('inline(arrays_zip(*))')\n",
        "      features_df = features_df.sort(['importance'], ascending=False, inplace=True)\n",
        "      features_df.show()\n",
        "      features_df = features_df.toPandas()\n",
        "      return sns.barplot(data=features_df, x=\"importance\", y=\"feature\")\n",
        "importance_of_features(model)"
      ]
    },
    {
      "cell_type": "markdown",
      "metadata": {
        "id": "-XuKw6wi1nF9"
      },
      "source": [
        "Random Forest"
      ]
    },
    {
      "cell_type": "code",
      "execution_count": null,
      "metadata": {
        "id": "gWbBC0SvrZxn"
      },
      "outputs": [],
      "source": [
        "from sklearn.ensemble import RandomForestClassifier\n",
        "from sklearn.model_selection import RandomizedSearchCV"
      ]
    },
    {
      "cell_type": "code",
      "execution_count": null,
      "metadata": {
        "id": "7VPzmxF6F6DM"
      },
      "outputs": [],
      "source": [
        "rf = RandomForestClassifier(random_state=0)\n",
        "rf.fit(x_train, np.ravel(y_train))\n",
        "y_pred_rf = rf.predict(x_test)\n",
        "print(metrics.accuracy_score(y_test, y_pred_rf))\n",
        "\n",
        "from pprint import pprint\n",
        "# Look at parameters used by our current forest\n",
        "print('Parameters currently in use:\\n')\n",
        "pprint(rf.get_params())"
      ]
    },
    {
      "cell_type": "code",
      "execution_count": null,
      "metadata": {
        "id": "fxDe9Lr-MScb"
      },
      "outputs": [],
      "source": [
        "# # Number of trees in random forest\n",
        "# n_estimators = [int(x) for x in np.linspace(start = 0, stop = 2000, num = 11)]\n",
        "# # Number of features to consider at every split\n",
        "# max_features = ['auto', 'sqrt']\n",
        "# # Maximum number of levels in tree\n",
        "# max_depth = [int(x) for x in np.linspace(0, 100, num = 6)]\n",
        "# max_depth.append(None)\n",
        "# # Minimum number of samples required to split a node\n",
        "# min_samples_split = [2, 5, 10]\n",
        "# # Minimum number of samples required at each leaf node\n",
        "# min_samples_leaf = [1, 2, 4]\n",
        "# # Method of selecting samples for training each tree\n",
        "# bootstrap = [True, False]\n",
        "# # Create the random grid\n",
        "# random_grid = {'n_estimators': n_estimators,\n",
        "#                'max_features': max_features,\n",
        "#                'max_depth': max_depth,\n",
        "#                'min_samples_split': min_samples_split,\n",
        "#                'min_samples_leaf': min_samples_leaf,\n",
        "#                'bootstrap': bootstrap}\n",
        "# pprint(random_grid)\n",
        "\n",
        "# # Use the random grid to search for best hyperparameters\n",
        "# # First create the base model to tune\n",
        "# rfc = RandomForestClassifier(random_state=42)\n",
        "# # Random search of parameters, using 2-fold cross validation,\n",
        "# # search across 100 different combinations, and use all available cores\n",
        "# rfc_random = RandomizedSearchCV(estimator = rfc, param_distributions = random_grid, n_iter = 100, cv = 2, verbose=2, n_jobs = -1)\n",
        "# # Fit the random search model\n",
        "# rfc_random.fit(x_train, np.ravel(y_train))\n",
        "# y_pred_rfr_random = rfc_random.predict(x_test)\n",
        "# print(metrics.accuracy_score(y_test, y_pred_rfr_random))"
      ]
    },
    {
      "cell_type": "markdown",
      "metadata": {
        "id": "3ZUvRUFOhwJn"
      },
      "source": [
        "Logistic Regression"
      ]
    },
    {
      "cell_type": "code",
      "execution_count": null,
      "metadata": {
        "id": "OYq-f60Lh0kQ"
      },
      "outputs": [],
      "source": [
        "from sklearn.linear_model import LogisticRegression\n",
        "from sklearn import metrics\n",
        "\n",
        "model = LogisticRegression(random_state=42)\n",
        "model.fit(x_train, np.ravel(y_train))"
      ]
    },
    {
      "cell_type": "code",
      "execution_count": null,
      "metadata": {
        "id": "Ro07tTZmiQlf"
      },
      "outputs": [],
      "source": [
        "y_pred = model.predict(x_test)\n",
        "print(metrics.accuracy_score(y_test, y_pred))"
      ]
    },
    {
      "cell_type": "code",
      "execution_count": null,
      "metadata": {
        "id": "AjHutUmSiakv"
      },
      "outputs": [],
      "source": [
        "from pprint import pprint\n",
        "# Look at parameters used by our current forest\n",
        "print('Parameters currently in use:\\n')\n",
        "pprint(model.get_params())"
      ]
    },
    {
      "cell_type": "code",
      "execution_count": null,
      "metadata": {
        "id": "TrzwbeLzigCP"
      },
      "outputs": [],
      "source": [
        "log_model = LogisticRegression(max_iter=131, verbose=2, random_state=42)\n",
        "log_model.fit(x_train, np.ravel(y_train))\n",
        "y_pred_log = log_model.predict(x_test)\n",
        "print(metrics.accuracy_score(y_test, y_pred_log))"
      ]
    },
    {
      "cell_type": "code",
      "execution_count": null,
      "metadata": {
        "id": "2KOl4TlSkBZS"
      },
      "outputs": [],
      "source": [
        "from sklearn.model_selection import GridSearchCV\n",
        "\n",
        "# Create the parameter grid based on the results of grid search\n",
        "# Penalty type\n",
        "penalty = ['l1', 'l2', 'elasticnet', 'none']\n",
        "# Solver type\n",
        "solver = ['lbfgs', 'liblinear']\n",
        "# Maximum number of iterations\n",
        "max_iter = [int(x) for x in np.linspace(start = 80, stop = 120, num = 5)]\n",
        "# Multi class\n",
        "multi_class = ['auto', 'ovr']\n",
        "# Verbosity\n",
        "verbose = [0, 1, 2]\n",
        "# l1 ratio\n",
        "l1_ratio = [0, 0.8, 0.9, 1]\n",
        "# C\n",
        "C = [0.5, 0.75, 1.0, 1.25, 1.5]\n",
        "\n",
        "# Create the param grid\n",
        "param_grid = {'penalty': penalty, 'solver': solver, 'max_iter':max_iter,\n",
        "    'multi_class':multi_class, 'verbose':verbose, 'l1_ratio':l1_ratio,\n",
        "    'C':C\n",
        "}\n",
        "pprint(param_grid)\n",
        "\n",
        "# Instantiate the grid search model with 2-fold cross-validation\n",
        "log_grid_search = GridSearchCV(estimator = LogisticRegression(random_state=42), param_grid = param_grid, cv = 2, n_jobs = -1)\n",
        "\n",
        "# Fit the grid search to the data\n",
        "log_grid_search.fit(x_train, np.ravel(y_train))\n",
        "best_log_grid = log_grid_search.best_estimator_\n",
        "best_log_grid.fit(x_train, np.ravel(y_train))\n",
        "y_pred_best_log = best_log_grid.predict(x_test)\n",
        "print(metrics.accuracy_score(y_test, y_pred_best_log))"
      ]
    },
    {
      "cell_type": "markdown",
      "metadata": {
        "id": "0UcebXSbo2F2"
      },
      "source": [
        "Gaussian Naive Bayes"
      ]
    },
    {
      "cell_type": "code",
      "execution_count": null,
      "metadata": {
        "id": "1ZOIoJ4GoWfn"
      },
      "outputs": [],
      "source": [
        "from sklearn.naive_bayes import GaussianNB\n",
        "\n",
        "gnb = GaussianNB()\n",
        "gnb.fit(x_train, y_train)\n",
        "\n",
        "# making predictions on the testing set\n",
        "y_pred = gnb.predict(x_test)\n",
        "\n",
        "# comparing actual response values (y_test) with predicted response values (y_pred)\n",
        "from sklearn import metrics\n",
        "print(\"Gaussian Naive Bayes model accuracy(in %):\", metrics.accuracy_score(y_test, y_pred)*100)\n"
      ]
    },
    {
      "cell_type": "code",
      "execution_count": null,
      "metadata": {
        "id": "j06Myj_R3Zk7"
      },
      "outputs": [],
      "source": [
        "nb_classifier = GaussianNB()\n",
        "kfold = KFold(n_splits=10, shuffle=True, random_state=0)\n",
        "params_NB = {'var_smoothing': [0.000000035111917342151277]} # {'var_smoothing': np.logspace(0,-9, num=100)}\n",
        "gs_NB = GridSearchCV(estimator=nb_classifier,\n",
        "                 param_grid=params_NB,\n",
        "                 cv=kfold,   # use any cross validation technique\n",
        "                 verbose=1,\n",
        "                 scoring='accuracy')\n",
        "gs_NB.fit(x_train, y_train)\n",
        "\n",
        "# gs_NB.best_params_\n",
        "\n",
        "y_pred = gs_NB.predict(x_test)\n",
        "\n",
        "# comparing actual response values (y_test) with predicted response values (y_pred)\n",
        "from sklearn import metrics\n",
        "print(\"Gaussian Naive Bayes model accuracy(in %):\", metrics.accuracy_score(y_test, y_pred)*100)\n"
      ]
    },
    {
      "cell_type": "markdown",
      "metadata": {
        "id": "63fPri4SkG9U"
      },
      "source": [
        "Using PySpark Vector"
      ]
    },
    {
      "cell_type": "code",
      "execution_count": null,
      "metadata": {
        "id": "277nM0GioC7C"
      },
      "outputs": [],
      "source": [
        "spark_df = matchesp[[\"rank_diff\", \"point_diff\", \"neutral_location\", \"rank_avg\", \"stake\", \"home_result\"]]\n",
        "spark_df.show(3)\n",
        "(train_df, test_df) = spark_df.randomSplit([0.7, 0.3], 0)"
      ]
    },
    {
      "cell_type": "code",
      "execution_count": null,
      "metadata": {
        "id": "S4MUJyx_-Wxv"
      },
      "outputs": [],
      "source": [
        "inputCols = [\"rank_diff\", \"point_diff\", \"neutral_location\", \"rank_avg\", \"stake\"]\n",
        "# inputCols\n",
        "outputCol = \"features\"\n",
        "vector_assembler = VectorAssembler(inputCols=inputCols, outputCol=outputCol)\n",
        "train_df = vector_assembler.transform(train_df)\n"
      ]
    },
    {
      "cell_type": "code",
      "execution_count": null,
      "metadata": {
        "id": "qeG9GsDOxS4I"
      },
      "outputs": [],
      "source": [
        "modeling_df = train_df.select([\"features\", \"home_result\"])\n",
        "modeling_df.show(3)"
      ]
    },
    {
      "cell_type": "code",
      "execution_count": null,
      "metadata": {
        "id": "ytDGogHWyjAn"
      },
      "outputs": [],
      "source": [
        "# from xgboost.spark import SparkXGBClassifier\n",
        "from pyspark.ml.classification import DecisionTreeClassifier\n",
        "dtc_model = DecisionTreeClassifier(labelCol=\"home_result\", featuresCol=\"features\")"
      ]
    },
    {
      "cell_type": "code",
      "execution_count": null,
      "metadata": {
        "id": "CukY5kCX0KRf"
      },
      "outputs": [],
      "source": [
        "dtc_model = dtc_model.fit(modeling_df)"
      ]
    },
    {
      "cell_type": "code",
      "execution_count": null,
      "metadata": {
        "id": "SxYQ-8ZhCibg"
      },
      "outputs": [],
      "source": [
        "predictions = dtc_model.transform(modeling_df)\n",
        "predictions.show(5, truncate=False)"
      ]
    },
    {
      "cell_type": "code",
      "execution_count": null,
      "metadata": {
        "id": "ZYTXvL_7DGv3"
      },
      "outputs": [],
      "source": [
        "test_df = vector_assembler.transform(test_df)\n",
        "test_predictions = dtc_model.transform(test_df)"
      ]
    },
    {
      "cell_type": "code",
      "execution_count": null,
      "metadata": {
        "id": "fCzGKE-IDfLB"
      },
      "outputs": [],
      "source": [
        "test_predictions.show(2, truncate=False)\n",
        "t = test_predictions.select(\"prediction\").collect()\n",
        "t = np.array(t)\n",
        "\n",
        "int(t[5500])\n",
        "count = 0\n",
        "tIndex = []\n",
        "for i, x in enumerate(t):\n",
        "  if x == 1:\n",
        "    count+=1\n",
        "    tIndex.append(i)\n",
        "print(count)\n",
        "print(len(tIndex))"
      ]
    },
    {
      "cell_type": "code",
      "execution_count": null,
      "metadata": {
        "id": "af2-syiEJ6J3"
      },
      "outputs": [],
      "source": [
        "testarr = test_df.select(\"home_result\").collect()\n",
        "testarr = np.array(testarr)\n",
        "testarr\n",
        "acc = accuracy_score(testarr, t)\n",
        "acc"
      ]
    },
    {
      "cell_type": "markdown",
      "source": [
        "World Cup 2022 Simulation"
      ],
      "metadata": {
        "id": "tYfkFTbUuTDv"
      }
    },
    {
      "cell_type": "code",
      "execution_count": null,
      "metadata": {
        "id": "IJaUMShkh8zK",
        "colab": {
          "base_uri": "https://localhost:8080/"
        },
        "outputId": "28cfa108-6839-4178-f920-f6ca2e6f085d"
      },
      "outputs": [
        {
          "output_type": "stream",
          "name": "stdout",
          "text": [
            "+----------+-------+-------+---------+---------+-----------+-----------+----------+----------+--------------------+----------------+-----------+---------+--------+----------+-----+----------+\n",
            "|      date|   home|   away|home_rank|away_rank|home_points|away_points|home_score|away_score|          tournament|neutral_location|home_result|rank_diff|rank_avg|point_diff|stake|score_diff|\n",
            "+----------+-------+-------+---------+---------+-----------+-----------+----------+----------+--------------------+----------------+-----------+---------+--------+----------+-----+----------+\n",
            "|1993-08-08|Bolivia|Uruguay|       59|       22|          0|          0|         3|         1|FIFA World Cup qu...|           false|          3|       37|    40.5|         0| true|         2|\n",
            "+----------+-------+-------+---------+---------+-----------+-----------+----------+----------+--------------------+----------------+-----------+---------+--------+----------+-----+----------+\n",
            "only showing top 1 row\n",
            "\n",
            "+----------+---------+------------+----+\n",
            "|      date|   nation|total_points|rank|\n",
            "+----------+---------+------------+----+\n",
            "|2022-06-06|   Brazil|        1832|   1|\n",
            "|2022-06-14|  Belgium|        1827|   2|\n",
            "|2022-06-13|   France|        1789|   3|\n",
            "|2022-06-05|Argentina|        1765|   4|\n",
            "|2022-06-14|  England|        1761|   5|\n",
            "+----------+---------+------------+----+\n",
            "only showing top 5 rows\n",
            "\n"
          ]
        }
      ],
      "source": [
        "# from pyspark.sql.functions import col, max as max_\n",
        "\n",
        "matchesp.show(1)\n",
        "home_nation = matchesp[[\"date\", \"home\", \"home_points\", \"home_rank\"]]\n",
        "away_nation = matchesp[[\"date\", \"away\", \"away_points\", \"away_rank\"]]\n",
        "# ranking.show()\n",
        "fifa_ranking = home_nation.union(away_nation)\n",
        "fifa_ranking = fifa_ranking.createOrReplaceTempView(\"entries\")\n",
        "\n",
        "fifa_ranking = spark.sql('''\n",
        "    SELECT\n",
        "        *\n",
        "    FROM (\n",
        "        SELECT\n",
        "            *,\n",
        "            dense_rank() OVER (PARTITION BY home ORDER BY date DESC) AS rank\n",
        "        FROM entries\n",
        "    ) vo WHERE rank = 1\n",
        "''');\n",
        "\n",
        "fifa_ranking = fifa_ranking.sort(\"home_points\", ascending=False).drop(\"rank\")\n",
        "fifa_ranking = fifa_ranking.withColumnRenamed(\"home\", \"nation\").withColumnRenamed(\"home_points\", \"total_points\").withColumnRenamed(\"home_rank\", \"rank\")\n",
        "fifa_ranking.show(5)"
      ]
    },
    {
      "cell_type": "code",
      "source": [
        "gamesp.show(1)"
      ],
      "metadata": {
        "colab": {
          "base_uri": "https://localhost:8080/"
        },
        "id": "eMcUACKKFjBi",
        "outputId": "1156c78f-6235-4f0a-c258-e0e21a17b219"
      },
      "execution_count": null,
      "outputs": [
        {
          "output_type": "stream",
          "name": "stdout",
          "text": [
            "+-----+-----+-------------------+--------------------+-------------------+\n",
            "| Team|Group|First match against|Second match against|Third match against|\n",
            "+-----+-----+-------------------+--------------------+-------------------+\n",
            "|Qatar|    A|            Ecuador|             Senegal|        Netherlands|\n",
            "+-----+-----+-------------------+--------------------+-------------------+\n",
            "only showing top 1 row\n",
            "\n"
          ]
        }
      ]
    },
    {
      "cell_type": "code",
      "source": [
        "participants = gamesp.groupby('Team').count().drop(\"count\")\n",
        "participants = participants.sort(\"Team\")\n",
        "\n",
        "participants.show(3)\n",
        "# participants.collect()"
      ],
      "metadata": {
        "colab": {
          "base_uri": "https://localhost:8080/"
        },
        "id": "cduiLMDsF0J0",
        "outputId": "35cb49a4-19cc-4c2e-a561-747aeed83069"
      },
      "execution_count": null,
      "outputs": [
        {
          "output_type": "stream",
          "name": "stdout",
          "text": [
            "+---------+\n",
            "|     Team|\n",
            "+---------+\n",
            "|Argentina|\n",
            "|Australia|\n",
            "|  Belgium|\n",
            "+---------+\n",
            "only showing top 3 rows\n",
            "\n"
          ]
        }
      ]
    },
    {
      "cell_type": "code",
      "source": [
        "participants_rank = fifa_ranking\n",
        "part_list = participants.select(\"Team\").collect()\n",
        "part_list = np.array((part_list)).flatten()\n",
        "part_list\n",
        "target = [\n",
        "    struct(\n",
        "        lit(nation).alias(\"nation\").cast(\"string\"))\n",
        "    for nation in part_list]\n",
        "\n",
        "query = struct(\"nation\").isin(target)\n",
        "participants_rank = participants_rank.where(query)\n",
        "# participants_rank = participants_rank.where(col('nation').isin(part_list))\n",
        "print(\"Number of participants: \", str(participants_rank.count()))\n",
        "# hr = participants_rank.select(F.col()where(w))\n",
        "participants_rank.show(3)\n",
        "participants_rank_pd = participants_rank.toPandas().set_index(\"nation\")\n",
        "participants_rank_pd.head(3)"
      ],
      "metadata": {
        "colab": {
          "base_uri": "https://localhost:8080/",
          "height": 348
        },
        "id": "1jx0pLc6BRJd",
        "outputId": "aeb08f2d-a00c-40ea-ce8d-1b0eff0121a4"
      },
      "execution_count": null,
      "outputs": [
        {
          "output_type": "stream",
          "name": "stdout",
          "text": [
            "Number of participants:  32\n",
            "+----------+-------+------------+----+\n",
            "|      date| nation|total_points|rank|\n",
            "+----------+-------+------------+----+\n",
            "|2022-06-06| Brazil|        1832|   1|\n",
            "|2022-06-14|Belgium|        1827|   2|\n",
            "|2022-06-13| France|        1789|   3|\n",
            "+----------+-------+------------+----+\n",
            "only showing top 3 rows\n",
            "\n"
          ]
        },
        {
          "output_type": "execute_result",
          "data": {
            "text/plain": [
              "               date  total_points  rank\n",
              "nation                                 \n",
              "Brazil   2022-06-06          1832     1\n",
              "Belgium  2022-06-14          1827     2\n",
              "France   2022-06-13          1789     3"
            ],
            "text/html": [
              "\n",
              "  <div id=\"df-34fd94b2-fcf2-49f6-965b-3405da4d11b5\">\n",
              "    <div class=\"colab-df-container\">\n",
              "      <div>\n",
              "<style scoped>\n",
              "    .dataframe tbody tr th:only-of-type {\n",
              "        vertical-align: middle;\n",
              "    }\n",
              "\n",
              "    .dataframe tbody tr th {\n",
              "        vertical-align: top;\n",
              "    }\n",
              "\n",
              "    .dataframe thead th {\n",
              "        text-align: right;\n",
              "    }\n",
              "</style>\n",
              "<table border=\"1\" class=\"dataframe\">\n",
              "  <thead>\n",
              "    <tr style=\"text-align: right;\">\n",
              "      <th></th>\n",
              "      <th>date</th>\n",
              "      <th>total_points</th>\n",
              "      <th>rank</th>\n",
              "    </tr>\n",
              "    <tr>\n",
              "      <th>nation</th>\n",
              "      <th></th>\n",
              "      <th></th>\n",
              "      <th></th>\n",
              "    </tr>\n",
              "  </thead>\n",
              "  <tbody>\n",
              "    <tr>\n",
              "      <th>Brazil</th>\n",
              "      <td>2022-06-06</td>\n",
              "      <td>1832</td>\n",
              "      <td>1</td>\n",
              "    </tr>\n",
              "    <tr>\n",
              "      <th>Belgium</th>\n",
              "      <td>2022-06-14</td>\n",
              "      <td>1827</td>\n",
              "      <td>2</td>\n",
              "    </tr>\n",
              "    <tr>\n",
              "      <th>France</th>\n",
              "      <td>2022-06-13</td>\n",
              "      <td>1789</td>\n",
              "      <td>3</td>\n",
              "    </tr>\n",
              "  </tbody>\n",
              "</table>\n",
              "</div>\n",
              "      <button class=\"colab-df-convert\" onclick=\"convertToInteractive('df-34fd94b2-fcf2-49f6-965b-3405da4d11b5')\"\n",
              "              title=\"Convert this dataframe to an interactive table.\"\n",
              "              style=\"display:none;\">\n",
              "        \n",
              "  <svg xmlns=\"http://www.w3.org/2000/svg\" height=\"24px\"viewBox=\"0 0 24 24\"\n",
              "       width=\"24px\">\n",
              "    <path d=\"M0 0h24v24H0V0z\" fill=\"none\"/>\n",
              "    <path d=\"M18.56 5.44l.94 2.06.94-2.06 2.06-.94-2.06-.94-.94-2.06-.94 2.06-2.06.94zm-11 1L8.5 8.5l.94-2.06 2.06-.94-2.06-.94L8.5 2.5l-.94 2.06-2.06.94zm10 10l.94 2.06.94-2.06 2.06-.94-2.06-.94-.94-2.06-.94 2.06-2.06.94z\"/><path d=\"M17.41 7.96l-1.37-1.37c-.4-.4-.92-.59-1.43-.59-.52 0-1.04.2-1.43.59L10.3 9.45l-7.72 7.72c-.78.78-.78 2.05 0 2.83L4 21.41c.39.39.9.59 1.41.59.51 0 1.02-.2 1.41-.59l7.78-7.78 2.81-2.81c.8-.78.8-2.07 0-2.86zM5.41 20L4 18.59l7.72-7.72 1.47 1.35L5.41 20z\"/>\n",
              "  </svg>\n",
              "      </button>\n",
              "      \n",
              "  <style>\n",
              "    .colab-df-container {\n",
              "      display:flex;\n",
              "      flex-wrap:wrap;\n",
              "      gap: 12px;\n",
              "    }\n",
              "\n",
              "    .colab-df-convert {\n",
              "      background-color: #E8F0FE;\n",
              "      border: none;\n",
              "      border-radius: 50%;\n",
              "      cursor: pointer;\n",
              "      display: none;\n",
              "      fill: #1967D2;\n",
              "      height: 32px;\n",
              "      padding: 0 0 0 0;\n",
              "      width: 32px;\n",
              "    }\n",
              "\n",
              "    .colab-df-convert:hover {\n",
              "      background-color: #E2EBFA;\n",
              "      box-shadow: 0px 1px 2px rgba(60, 64, 67, 0.3), 0px 1px 3px 1px rgba(60, 64, 67, 0.15);\n",
              "      fill: #174EA6;\n",
              "    }\n",
              "\n",
              "    [theme=dark] .colab-df-convert {\n",
              "      background-color: #3B4455;\n",
              "      fill: #D2E3FC;\n",
              "    }\n",
              "\n",
              "    [theme=dark] .colab-df-convert:hover {\n",
              "      background-color: #434B5C;\n",
              "      box-shadow: 0px 1px 3px 1px rgba(0, 0, 0, 0.15);\n",
              "      filter: drop-shadow(0px 1px 2px rgba(0, 0, 0, 0.3));\n",
              "      fill: #FFFFFF;\n",
              "    }\n",
              "  </style>\n",
              "\n",
              "      <script>\n",
              "        const buttonEl =\n",
              "          document.querySelector('#df-34fd94b2-fcf2-49f6-965b-3405da4d11b5 button.colab-df-convert');\n",
              "        buttonEl.style.display =\n",
              "          google.colab.kernel.accessAllowed ? 'block' : 'none';\n",
              "\n",
              "        async function convertToInteractive(key) {\n",
              "          const element = document.querySelector('#df-34fd94b2-fcf2-49f6-965b-3405da4d11b5');\n",
              "          const dataTable =\n",
              "            await google.colab.kernel.invokeFunction('convertToInteractive',\n",
              "                                                     [key], {});\n",
              "          if (!dataTable) return;\n",
              "\n",
              "          const docLinkHtml = 'Like what you see? Visit the ' +\n",
              "            '<a target=\"_blank\" href=https://colab.research.google.com/notebooks/data_table.ipynb>data table notebook</a>'\n",
              "            + ' to learn more about interactive tables.';\n",
              "          element.innerHTML = '';\n",
              "          dataTable['output_type'] = 'display_data';\n",
              "          await google.colab.output.renderOutput(dataTable, element);\n",
              "          const docLink = document.createElement('div');\n",
              "          docLink.innerHTML = docLinkHtml;\n",
              "          element.appendChild(docLink);\n",
              "        }\n",
              "      </script>\n",
              "    </div>\n",
              "  </div>\n",
              "  "
            ]
          },
          "metadata": {},
          "execution_count": 25
        }
      ]
    },
    {
      "cell_type": "code",
      "source": [
        "plt.figure(figsize=(37,10))\n",
        "plt.title(\"Rank of all 32 Wold Cup Participants\")\n",
        "sns.barplot(data=participants_rank.toPandas(), x='nation',y='total_points')"
      ],
      "metadata": {
        "colab": {
          "base_uri": "https://localhost:8080/",
          "height": 363
        },
        "id": "fTQuGP7B8kKv",
        "outputId": "1d83a0eb-5ff7-4a0e-b3aa-4acf01e58f0d"
      },
      "execution_count": null,
      "outputs": [
        {
          "output_type": "execute_result",
          "data": {
            "text/plain": [
              "<matplotlib.axes._subplots.AxesSubplot at 0x7f27646c4a50>"
            ]
          },
          "metadata": {},
          "execution_count": 79
        },
        {
          "output_type": "display_data",
          "data": {
            "text/plain": [
              "<Figure size 2664x720 with 1 Axes>"
            ],
            "image/png": "[encoded data removed]"
          },
          "metadata": {
            "needs_background": "light"
          }
        }
      ]
    },
    {
      "cell_type": "markdown",
      "source": [
        "Group Stage"
      ],
      "metadata": {
        "id": "PNJr7JqnmAyi"
      }
    },
    {
      "cell_type": "code",
      "source": [
        "from itertools import combinations\n",
        "# Using Pandas\n",
        "world_cup = gamesd\n",
        "world_cup.head()"
      ],
      "metadata": {
        "colab": {
          "base_uri": "https://localhost:8080/",
          "height": 237
        },
        "id": "hQxQ8g0AsYYt",
        "outputId": "a62d7796-d9b8-4928-d819-622fc3be2112"
      },
      "execution_count": null,
      "outputs": [
        {
          "output_type": "execute_result",
          "data": {
            "text/plain": [
              "            Group First match against Second match against  \\\n",
              "Team                                                         \n",
              "Qatar           A             Ecuador              Senegal   \n",
              "Ecuador         A               Qatar          Netherlands   \n",
              "Senegal         A         Netherlands                Qatar   \n",
              "Netherlands     A             Senegal              Ecuador   \n",
              "England         B             IR Iran                  USA   \n",
              "\n",
              "            Third match against  points  total_prob  \n",
              "Team                                                 \n",
              "Qatar               Netherlands       3    1.097558  \n",
              "Ecuador                 Senegal       0    0.782787  \n",
              "Senegal                 Ecuador       6    1.222015  \n",
              "Netherlands               Qatar       9    1.416371  \n",
              "England                   Wales       9    1.597103  "
            ],
            "text/html": [
              "\n",
              "  <div id=\"df-8e4ba481-0f20-480e-b649-3afd794bd2ba\">\n",
              "    <div class=\"colab-df-container\">\n",
              "      <div>\n",
              "<style scoped>\n",
              "    .dataframe tbody tr th:only-of-type {\n",
              "        vertical-align: middle;\n",
              "    }\n",
              "\n",
              "    .dataframe tbody tr th {\n",
              "        vertical-align: top;\n",
              "    }\n",
              "\n",
              "    .dataframe thead th {\n",
              "        text-align: right;\n",
              "    }\n",
              "</style>\n",
              "<table border=\"1\" class=\"dataframe\">\n",
              "  <thead>\n",
              "    <tr style=\"text-align: right;\">\n",
              "      <th></th>\n",
              "      <th>Group</th>\n",
              "      <th>First match against</th>\n",
              "      <th>Second match against</th>\n",
              "      <th>Third match against</th>\n",
              "      <th>points</th>\n",
              "      <th>total_prob</th>\n",
              "    </tr>\n",
              "    <tr>\n",
              "      <th>Team</th>\n",
              "      <th></th>\n",
              "      <th></th>\n",
              "      <th></th>\n",
              "      <th></th>\n",
              "      <th></th>\n",
              "      <th></th>\n",
              "    </tr>\n",
              "  </thead>\n",
              "  <tbody>\n",
              "    <tr>\n",
              "      <th>Qatar</th>\n",
              "      <td>A</td>\n",
              "      <td>Ecuador</td>\n",
              "      <td>Senegal</td>\n",
              "      <td>Netherlands</td>\n",
              "      <td>3</td>\n",
              "      <td>1.097558</td>\n",
              "    </tr>\n",
              "    <tr>\n",
              "      <th>Ecuador</th>\n",
              "      <td>A</td>\n",
              "      <td>Qatar</td>\n",
              "      <td>Netherlands</td>\n",
              "      <td>Senegal</td>\n",
              "      <td>0</td>\n",
              "      <td>0.782787</td>\n",
              "    </tr>\n",
              "    <tr>\n",
              "      <th>Senegal</th>\n",
              "      <td>A</td>\n",
              "      <td>Netherlands</td>\n",
              "      <td>Qatar</td>\n",
              "      <td>Ecuador</td>\n",
              "      <td>6</td>\n",
              "      <td>1.222015</td>\n",
              "    </tr>\n",
              "    <tr>\n",
              "      <th>Netherlands</th>\n",
              "      <td>A</td>\n",
              "      <td>Senegal</td>\n",
              "      <td>Ecuador</td>\n",
              "      <td>Qatar</td>\n",
              "      <td>9</td>\n",
              "      <td>1.416371</td>\n",
              "    </tr>\n",
              "    <tr>\n",
              "      <th>England</th>\n",
              "      <td>B</td>\n",
              "      <td>IR Iran</td>\n",
              "      <td>USA</td>\n",
              "      <td>Wales</td>\n",
              "      <td>9</td>\n",
              "      <td>1.597103</td>\n",
              "    </tr>\n",
              "  </tbody>\n",
              "</table>\n",
              "</div>\n",
              "      <button class=\"colab-df-convert\" onclick=\"convertToInteractive('df-8e4ba481-0f20-480e-b649-3afd794bd2ba')\"\n",
              "              title=\"Convert this dataframe to an interactive table.\"\n",
              "              style=\"display:none;\">\n",
              "        \n",
              "  <svg xmlns=\"http://www.w3.org/2000/svg\" height=\"24px\"viewBox=\"0 0 24 24\"\n",
              "       width=\"24px\">\n",
              "    <path d=\"M0 0h24v24H0V0z\" fill=\"none\"/>\n",
              "    <path d=\"M18.56 5.44l.94 2.06.94-2.06 2.06-.94-2.06-.94-.94-2.06-.94 2.06-2.06.94zm-11 1L8.5 8.5l.94-2.06 2.06-.94-2.06-.94L8.5 2.5l-.94 2.06-2.06.94zm10 10l.94 2.06.94-2.06 2.06-.94-2.06-.94-.94-2.06-.94 2.06-2.06.94z\"/><path d=\"M17.41 7.96l-1.37-1.37c-.4-.4-.92-.59-1.43-.59-.52 0-1.04.2-1.43.59L10.3 9.45l-7.72 7.72c-.78.78-.78 2.05 0 2.83L4 21.41c.39.39.9.59 1.41.59.51 0 1.02-.2 1.41-.59l7.78-7.78 2.81-2.81c.8-.78.8-2.07 0-2.86zM5.41 20L4 18.59l7.72-7.72 1.47 1.35L5.41 20z\"/>\n",
              "  </svg>\n",
              "      </button>\n",
              "      \n",
              "  <style>\n",
              "    .colab-df-container {\n",
              "      display:flex;\n",
              "      flex-wrap:wrap;\n",
              "      gap: 12px;\n",
              "    }\n",
              "\n",
              "    .colab-df-convert {\n",
              "      background-color: #E8F0FE;\n",
              "      border: none;\n",
              "      border-radius: 50%;\n",
              "      cursor: pointer;\n",
              "      display: none;\n",
              "      fill: #1967D2;\n",
              "      height: 32px;\n",
              "      padding: 0 0 0 0;\n",
              "      width: 32px;\n",
              "    }\n",
              "\n",
              "    .colab-df-convert:hover {\n",
              "      background-color: #E2EBFA;\n",
              "      box-shadow: 0px 1px 2px rgba(60, 64, 67, 0.3), 0px 1px 3px 1px rgba(60, 64, 67, 0.15);\n",
              "      fill: #174EA6;\n",
              "    }\n",
              "\n",
              "    [theme=dark] .colab-df-convert {\n",
              "      background-color: #3B4455;\n",
              "      fill: #D2E3FC;\n",
              "    }\n",
              "\n",
              "    [theme=dark] .colab-df-convert:hover {\n",
              "      background-color: #434B5C;\n",
              "      box-shadow: 0px 1px 3px 1px rgba(0, 0, 0, 0.15);\n",
              "      filter: drop-shadow(0px 1px 2px rgba(0, 0, 0, 0.3));\n",
              "      fill: #FFFFFF;\n",
              "    }\n",
              "  </style>\n",
              "\n",
              "      <script>\n",
              "        const buttonEl =\n",
              "          document.querySelector('#df-8e4ba481-0f20-480e-b649-3afd794bd2ba button.colab-df-convert');\n",
              "        buttonEl.style.display =\n",
              "          google.colab.kernel.accessAllowed ? 'block' : 'none';\n",
              "\n",
              "        async function convertToInteractive(key) {\n",
              "          const element = document.querySelector('#df-8e4ba481-0f20-480e-b649-3afd794bd2ba');\n",
              "          const dataTable =\n",
              "            await google.colab.kernel.invokeFunction('convertToInteractive',\n",
              "                                                     [key], {});\n",
              "          if (!dataTable) return;\n",
              "\n",
              "          const docLinkHtml = 'Like what you see? Visit the ' +\n",
              "            '<a target=\"_blank\" href=https://colab.research.google.com/notebooks/data_table.ipynb>data table notebook</a>'\n",
              "            + ' to learn more about interactive tables.';\n",
              "          element.innerHTML = '';\n",
              "          dataTable['output_type'] = 'display_data';\n",
              "          await google.colab.output.renderOutput(dataTable, element);\n",
              "          const docLink = document.createElement('div');\n",
              "          docLink.innerHTML = docLinkHtml;\n",
              "          element.appendChild(docLink);\n",
              "        }\n",
              "      </script>\n",
              "    </div>\n",
              "  </div>\n",
              "  "
            ]
          },
          "metadata": {},
          "execution_count": 45
        }
      ]
    },
    {
      "cell_type": "code",
      "source": [
        "world_cup['points'] = 0\n",
        "world_cup['total_prob'] = 0\n",
        "features.columns"
      ],
      "metadata": {
        "colab": {
          "base_uri": "https://localhost:8080/"
        },
        "id": "tSUkfBD0fFg-",
        "outputId": "3b3fcc0e-4716-45e2-d799-966abee65d72"
      },
      "execution_count": null,
      "outputs": [
        {
          "output_type": "execute_result",
          "data": {
            "text/plain": [
              "Index(['rank_diff', 'point_diff', 'neutral_location', 'rank_avg', 'stake'], dtype='object')"
            ]
          },
          "metadata": {},
          "execution_count": 46
        }
      ]
    },
    {
      "cell_type": "code",
      "source": [
        "import builtins as bts\n",
        "for group in set(world_cup['Group']):\n",
        "    print('___Starting group {}:___'.format(group))\n",
        "    for home, away in combinations(world_cup.query('Group == \"{}\"'.format(group)).index, 2):\n",
        "        print(\"{} vs. {}: \".format(home, away), end='')\n",
        "        # columns = features.columns\n",
        "        row = pd.DataFrame(np.array([[np.nan, np.nan, np.nan, np.nan,np.nan]]), columns=init_feat(matchesp).columns)\n",
        "        home_rank = participants_rank.select(\"rank\").where(participants_rank.nation == home).collect()[0][0] # participants_rank_pd.loc[home,\"rank\"]\n",
        "        away_rank = participants_rank.select(\"rank\").where(participants_rank.nation == away).collect()[0][0] # participants_rank_pd.loc[away,\"rank\"]\n",
        "\n",
        "        row[\"rank_diff\"] = home_rank - away_rank\n",
        "        row[\"point_diff\"] = participants_rank_pd.loc[home,\"total_points\"] - participants_rank_pd.loc[away,\"total_points\"]\n",
        "        row[\"neutral_location\"] = False if home == \"Qatar\" else True\n",
        "        row[\"rank_avg\"] = (home_rank + away_rank) / 2\n",
        "        row['stake'] = True\n",
        "\n",
        "        row = spark.createDataFrame(row)\n",
        "        row = np.asarray(row.collect())\n",
        "\n",
        "        home_win_prob = model.predict_proba(row)[:,2][0]\n",
        "        away_win_prob = model.predict_proba(row)[:,0][0]\n",
        "        draw_prob = model.predict_proba(row)[:,1][0]\n",
        "\n",
        "        points = 0\n",
        "        probability = bts.max(home_win_prob,away_win_prob,draw_prob)\n",
        "        if probability == away_win_prob:\n",
        "          print(\"{} wins with a probability of {:.2f}% \".format(away, away_win_prob))\n",
        "          world_cup.loc[away, 'points'] += 3\n",
        "          world_cup.loc[home, 'total_prob'] += home_win_prob\n",
        "          world_cup.loc[away, 'total_prob'] += away_win_prob\n",
        "        if probability == draw_prob:\n",
        "            points = 1\n",
        "            print(\"Draw with probability of {:.2f}%\".format(draw_prob))\n",
        "            world_cup.loc[home, 'points'] += 1\n",
        "            world_cup.loc[away, 'points'] += 1\n",
        "            world_cup.loc[home, 'total_prob'] += draw_prob\n",
        "            world_cup.loc[away, 'total_prob'] += draw_prob\n",
        "        if probability == home_win_prob:\n",
        "            points = 3\n",
        "            world_cup.loc[home, 'points'] += 3\n",
        "            world_cup.loc[home, 'total_prob'] += home_win_prob\n",
        "            world_cup.loc[away, 'total_prob'] += away_win_prob\n",
        "            print(\"{} wins with a probability of {:.2f}%\".format(home, home_win_prob))"
      ],
      "metadata": {
        "colab": {
          "base_uri": "https://localhost:8080/"
        },
        "id": "pgYz5YCcfLum",
        "outputId": "461aa8c8-34d2-4a28-e041-60726ada23d2"
      },
      "execution_count": null,
      "outputs": [
        {
          "output_type": "stream",
          "name": "stdout",
          "text": [
            "___Starting group C:___\n",
            "Argentina vs. Saudi Arabia: Argentina wins with a probability of 0.66%\n",
            "Argentina vs. Mexico: Argentina wins with a probability of 0.45%\n",
            "Argentina vs. Poland: Argentina wins with a probability of 0.56%\n",
            "Saudi Arabia vs. Mexico: Mexico wins with a probability of 0.54% \n",
            "Saudi Arabia vs. Poland: Poland wins with a probability of 0.48% \n",
            "Mexico vs. Poland: Mexico wins with a probability of 0.52%\n",
            "___Starting group A:___\n",
            "Qatar vs. Ecuador: Qatar wins with a probability of 0.48%\n",
            "Qatar vs. Senegal: Senegal wins with a probability of 0.40% \n",
            "Qatar vs. Netherlands: Netherlands wins with a probability of 0.43% \n",
            "Ecuador vs. Senegal: Senegal wins with a probability of 0.49% \n",
            "Ecuador vs. Netherlands: Netherlands wins with a probability of 0.54% \n",
            "Senegal vs. Netherlands: Netherlands wins with a probability of 0.45% \n",
            "___Starting group F:___\n",
            "Belgium vs. Canada: Belgium wins with a probability of 0.59%\n",
            "Belgium vs. Morocco: Belgium wins with a probability of 0.57%\n",
            "Belgium vs. Croatia: Belgium wins with a probability of 0.53%\n",
            "Canada vs. Morocco: Morocco wins with a probability of 0.45% \n",
            "Canada vs. Croatia: Croatia wins with a probability of 0.52% \n",
            "Morocco vs. Croatia: Morocco wins with a probability of 0.38%\n",
            "___Starting group D:___\n",
            "France vs. Australia: France wins with a probability of 0.64%\n",
            "France vs. Denmark: France wins with a probability of 0.50%\n",
            "France vs. Tunisia: France wins with a probability of 0.59%\n",
            "Australia vs. Denmark: Denmark wins with a probability of 0.53% \n",
            "Australia vs. Tunisia: Australia wins with a probability of 0.39%\n",
            "Denmark vs. Tunisia: Denmark wins with a probability of 0.56%\n",
            "___Starting group H:___\n",
            "Portugal vs. Ghana: Portugal wins with a probability of 0.69%\n",
            "Portugal vs. Uruguay: Portugal wins with a probability of 0.45%\n",
            "Portugal vs. Korea Republic: Portugal wins with a probability of 0.53%\n",
            "Ghana vs. Uruguay: Uruguay wins with a probability of 0.59% \n",
            "Ghana vs. Korea Republic: Korea Republic wins with a probability of 0.51% \n",
            "Uruguay vs. Korea Republic: Uruguay wins with a probability of 0.53%\n",
            "___Starting group G:___\n",
            "Brazil vs. Serbia: Brazil wins with a probability of 0.58%\n",
            "Brazil vs. Switzerland: Brazil wins with a probability of 0.52%\n",
            "Brazil vs. Cameroon: Brazil wins with a probability of 0.59%\n",
            "Serbia vs. Switzerland: Switzerland wins with a probability of 0.44% \n",
            "Serbia vs. Cameroon: Serbia wins with a probability of 0.51%\n",
            "Switzerland vs. Cameroon: Switzerland wins with a probability of 0.55%\n",
            "___Starting group B:___\n",
            "England vs. IR Iran: England wins with a probability of 0.55%\n",
            "England vs. USA: England wins with a probability of 0.52%\n",
            "England vs. Wales: England wins with a probability of 0.52%\n",
            "IR Iran vs. USA: IR Iran wins with a probability of 0.39%\n",
            "IR Iran vs. Wales: IR Iran wins with a probability of 0.40%\n",
            "USA vs. Wales: USA wins with a probability of 0.46%\n",
            "___Starting group E:___\n",
            "Spain vs. Costa Rica: Spain wins with a probability of 0.56%\n",
            "Spain vs. Germany: Spain wins with a probability of 0.45%\n",
            "Spain vs. Japan: Spain wins with a probability of 0.54%\n",
            "Costa Rica vs. Germany: Germany wins with a probability of 0.52% \n",
            "Costa Rica vs. Japan: Costa Rica wins with a probability of 0.38%\n",
            "Germany vs. Japan: Germany wins with a probability of 0.50%\n"
          ]
        }
      ]
    },
    {
      "cell_type": "code",
      "source": [
        "world_cup.head(10)"
      ],
      "metadata": {
        "colab": {
          "base_uri": "https://localhost:8080/",
          "height": 394
        },
        "id": "VD87tgTKjWcP",
        "outputId": "2acfdbe0-8e91-488a-deb6-b1b473d479de"
      },
      "execution_count": null,
      "outputs": [
        {
          "output_type": "execute_result",
          "data": {
            "text/plain": [
              "             Group First match against Second match against  \\\n",
              "Team                                                          \n",
              "Qatar            A             Ecuador              Senegal   \n",
              "Ecuador          A               Qatar          Netherlands   \n",
              "Senegal          A         Netherlands                Qatar   \n",
              "Netherlands      A             Senegal              Ecuador   \n",
              "England          B             IR Iran                  USA   \n",
              "IR Iran          B             England                Wales   \n",
              "USA              B               Wales              England   \n",
              "Wales            B                 USA              IR Iran   \n",
              "Argentina        C        Saudi Arabia               Mexico   \n",
              "Saudi Arabia     C           Argentina               Poland   \n",
              "\n",
              "             Third match against  points  total_prob  \n",
              "Team                                                  \n",
              "Qatar                Netherlands       3    1.097558  \n",
              "Ecuador                  Senegal       0    0.782787  \n",
              "Senegal                  Ecuador       6    1.222015  \n",
              "Netherlands                Qatar       9    1.416371  \n",
              "England                    Wales       9    1.597103  \n",
              "IR Iran                      USA       6    1.030703  \n",
              "USA                      IR Iran       3    1.093685  \n",
              "Wales                    England       0    0.962655  \n",
              "Argentina                 Poland       9    1.665174  \n",
              "Saudi Arabia              Mexico       0    0.677997  "
            ],
            "text/html": [
              "\n",
              "  <div id=\"df-3d9cabb2-b778-43ee-8e91-8a96ced58214\">\n",
              "    <div class=\"colab-df-container\">\n",
              "      <div>\n",
              "<style scoped>\n",
              "    .dataframe tbody tr th:only-of-type {\n",
              "        vertical-align: middle;\n",
              "    }\n",
              "\n",
              "    .dataframe tbody tr th {\n",
              "        vertical-align: top;\n",
              "    }\n",
              "\n",
              "    .dataframe thead th {\n",
              "        text-align: right;\n",
              "    }\n",
              "</style>\n",
              "<table border=\"1\" class=\"dataframe\">\n",
              "  <thead>\n",
              "    <tr style=\"text-align: right;\">\n",
              "      <th></th>\n",
              "      <th>Group</th>\n",
              "      <th>First match against</th>\n",
              "      <th>Second match against</th>\n",
              "      <th>Third match against</th>\n",
              "      <th>points</th>\n",
              "      <th>total_prob</th>\n",
              "    </tr>\n",
              "    <tr>\n",
              "      <th>Team</th>\n",
              "      <th></th>\n",
              "      <th></th>\n",
              "      <th></th>\n",
              "      <th></th>\n",
              "      <th></th>\n",
              "      <th></th>\n",
              "    </tr>\n",
              "  </thead>\n",
              "  <tbody>\n",
              "    <tr>\n",
              "      <th>Qatar</th>\n",
              "      <td>A</td>\n",
              "      <td>Ecuador</td>\n",
              "      <td>Senegal</td>\n",
              "      <td>Netherlands</td>\n",
              "      <td>3</td>\n",
              "      <td>1.097558</td>\n",
              "    </tr>\n",
              "    <tr>\n",
              "      <th>Ecuador</th>\n",
              "      <td>A</td>\n",
              "      <td>Qatar</td>\n",
              "      <td>Netherlands</td>\n",
              "      <td>Senegal</td>\n",
              "      <td>0</td>\n",
              "      <td>0.782787</td>\n",
              "    </tr>\n",
              "    <tr>\n",
              "      <th>Senegal</th>\n",
              "      <td>A</td>\n",
              "      <td>Netherlands</td>\n",
              "      <td>Qatar</td>\n",
              "      <td>Ecuador</td>\n",
              "      <td>6</td>\n",
              "      <td>1.222015</td>\n",
              "    </tr>\n",
              "    <tr>\n",
              "      <th>Netherlands</th>\n",
              "      <td>A</td>\n",
              "      <td>Senegal</td>\n",
              "      <td>Ecuador</td>\n",
              "      <td>Qatar</td>\n",
              "      <td>9</td>\n",
              "      <td>1.416371</td>\n",
              "    </tr>\n",
              "    <tr>\n",
              "      <th>England</th>\n",
              "      <td>B</td>\n",
              "      <td>IR Iran</td>\n",
              "      <td>USA</td>\n",
              "      <td>Wales</td>\n",
              "      <td>9</td>\n",
              "      <td>1.597103</td>\n",
              "    </tr>\n",
              "    <tr>\n",
              "      <th>IR Iran</th>\n",
              "      <td>B</td>\n",
              "      <td>England</td>\n",
              "      <td>Wales</td>\n",
              "      <td>USA</td>\n",
              "      <td>6</td>\n",
              "      <td>1.030703</td>\n",
              "    </tr>\n",
              "    <tr>\n",
              "      <th>USA</th>\n",
              "      <td>B</td>\n",
              "      <td>Wales</td>\n",
              "      <td>England</td>\n",
              "      <td>IR Iran</td>\n",
              "      <td>3</td>\n",
              "      <td>1.093685</td>\n",
              "    </tr>\n",
              "    <tr>\n",
              "      <th>Wales</th>\n",
              "      <td>B</td>\n",
              "      <td>USA</td>\n",
              "      <td>IR Iran</td>\n",
              "      <td>England</td>\n",
              "      <td>0</td>\n",
              "      <td>0.962655</td>\n",
              "    </tr>\n",
              "    <tr>\n",
              "      <th>Argentina</th>\n",
              "      <td>C</td>\n",
              "      <td>Saudi Arabia</td>\n",
              "      <td>Mexico</td>\n",
              "      <td>Poland</td>\n",
              "      <td>9</td>\n",
              "      <td>1.665174</td>\n",
              "    </tr>\n",
              "    <tr>\n",
              "      <th>Saudi Arabia</th>\n",
              "      <td>C</td>\n",
              "      <td>Argentina</td>\n",
              "      <td>Poland</td>\n",
              "      <td>Mexico</td>\n",
              "      <td>0</td>\n",
              "      <td>0.677997</td>\n",
              "    </tr>\n",
              "  </tbody>\n",
              "</table>\n",
              "</div>\n",
              "      <button class=\"colab-df-convert\" onclick=\"convertToInteractive('df-3d9cabb2-b778-43ee-8e91-8a96ced58214')\"\n",
              "              title=\"Convert this dataframe to an interactive table.\"\n",
              "              style=\"display:none;\">\n",
              "        \n",
              "  <svg xmlns=\"http://www.w3.org/2000/svg\" height=\"24px\"viewBox=\"0 0 24 24\"\n",
              "       width=\"24px\">\n",
              "    <path d=\"M0 0h24v24H0V0z\" fill=\"none\"/>\n",
              "    <path d=\"M18.56 5.44l.94 2.06.94-2.06 2.06-.94-2.06-.94-.94-2.06-.94 2.06-2.06.94zm-11 1L8.5 8.5l.94-2.06 2.06-.94-2.06-.94L8.5 2.5l-.94 2.06-2.06.94zm10 10l.94 2.06.94-2.06 2.06-.94-2.06-.94-.94-2.06-.94 2.06-2.06.94z\"/><path d=\"M17.41 7.96l-1.37-1.37c-.4-.4-.92-.59-1.43-.59-.52 0-1.04.2-1.43.59L10.3 9.45l-7.72 7.72c-.78.78-.78 2.05 0 2.83L4 21.41c.39.39.9.59 1.41.59.51 0 1.02-.2 1.41-.59l7.78-7.78 2.81-2.81c.8-.78.8-2.07 0-2.86zM5.41 20L4 18.59l7.72-7.72 1.47 1.35L5.41 20z\"/>\n",
              "  </svg>\n",
              "      </button>\n",
              "      \n",
              "  <style>\n",
              "    .colab-df-container {\n",
              "      display:flex;\n",
              "      flex-wrap:wrap;\n",
              "      gap: 12px;\n",
              "    }\n",
              "\n",
              "    .colab-df-convert {\n",
              "      background-color: #E8F0FE;\n",
              "      border: none;\n",
              "      border-radius: 50%;\n",
              "      cursor: pointer;\n",
              "      display: none;\n",
              "      fill: #1967D2;\n",
              "      height: 32px;\n",
              "      padding: 0 0 0 0;\n",
              "      width: 32px;\n",
              "    }\n",
              "\n",
              "    .colab-df-convert:hover {\n",
              "      background-color: #E2EBFA;\n",
              "      box-shadow: 0px 1px 2px rgba(60, 64, 67, 0.3), 0px 1px 3px 1px rgba(60, 64, 67, 0.15);\n",
              "      fill: #174EA6;\n",
              "    }\n",
              "\n",
              "    [theme=dark] .colab-df-convert {\n",
              "      background-color: #3B4455;\n",
              "      fill: #D2E3FC;\n",
              "    }\n",
              "\n",
              "    [theme=dark] .colab-df-convert:hover {\n",
              "      background-color: #434B5C;\n",
              "      box-shadow: 0px 1px 3px 1px rgba(0, 0, 0, 0.15);\n",
              "      filter: drop-shadow(0px 1px 2px rgba(0, 0, 0, 0.3));\n",
              "      fill: #FFFFFF;\n",
              "    }\n",
              "  </style>\n",
              "\n",
              "      <script>\n",
              "        const buttonEl =\n",
              "          document.querySelector('#df-3d9cabb2-b778-43ee-8e91-8a96ced58214 button.colab-df-convert');\n",
              "        buttonEl.style.display =\n",
              "          google.colab.kernel.accessAllowed ? 'block' : 'none';\n",
              "\n",
              "        async function convertToInteractive(key) {\n",
              "          const element = document.querySelector('#df-3d9cabb2-b778-43ee-8e91-8a96ced58214');\n",
              "          const dataTable =\n",
              "            await google.colab.kernel.invokeFunction('convertToInteractive',\n",
              "                                                     [key], {});\n",
              "          if (!dataTable) return;\n",
              "\n",
              "          const docLinkHtml = 'Like what you see? Visit the ' +\n",
              "            '<a target=\"_blank\" href=https://colab.research.google.com/notebooks/data_table.ipynb>data table notebook</a>'\n",
              "            + ' to learn more about interactive tables.';\n",
              "          element.innerHTML = '';\n",
              "          dataTable['output_type'] = 'display_data';\n",
              "          await google.colab.output.renderOutput(dataTable, element);\n",
              "          const docLink = document.createElement('div');\n",
              "          docLink.innerHTML = docLinkHtml;\n",
              "          element.appendChild(docLink);\n",
              "        }\n",
              "      </script>\n",
              "    </div>\n",
              "  </div>\n",
              "  "
            ]
          },
          "metadata": {},
          "execution_count": 29
        }
      ]
    },
    {
      "cell_type": "code",
      "source": [
        "# Using PySPark\n",
        "# world_cup = gamesp\n",
        "# world_cup = world_cup.withColumns({\"points\" : lit(0), \"total_prob\" : lit(0)})\n",
        "# # world_cup = world_cup.withColumn(\"points\", lit(0))\n",
        "# world_cup.show(2)\n",
        "\n"
      ],
      "metadata": {
        "id": "FuSBS7WRmD19"
      },
      "execution_count": null,
      "outputs": []
    },
    {
      "cell_type": "code",
      "source": [
        "# # group_set = world_cup.select(\"Group\").collect()\n",
        "# group_set = set(np.array(world_cup.select(\"Group\").collect()).flatten())\n",
        "# # group_set = set(group_set)\n",
        "# # group_set\n",
        "\n",
        "# for group in set(group_set):\n",
        "#     print('___Starting group {}:___'.format(group))\n",
        "#     for home, away in combinations(world_cup.Group == \"{}\".format(group),2):\n",
        "#         print(\"{} vs. {}: \".format(home, away), end='')\n",
        "#         null_rdd = spark.sparkContext.emptyRDD()\n",
        "#         columns = StructType([])#init_feat(matchesp).columns\n",
        "#         row = spark.createDataFrame(data=null_rdd, schema=columns)\n",
        "#         # row = row.withColumns({\"rank_diff\" : matchesp[\"home_rank\"] - matchesp[\"away_rank\"], \"rank_avg\": (matchesp[\"home_rank\"] + matchesp[\"away_rank\"]) / 2,\n",
        "#                       # \"point_diff\": matchesp[\"home_points\"] + matchesp[\"away_points\"], \"stake\" : matchesp[\"tournament\"] != \"Friendly\",\n",
        "#                       # \"score_diff\" : matchesp[\"home_score\"] - matchesp[\"away_score\"]})\n",
        "#         row.show()\n"
      ],
      "metadata": {
        "id": "FiquxLlmUk74"
      },
      "execution_count": null,
      "outputs": []
    },
    {
      "cell_type": "code",
      "source": [
        "# pt = 3\n",
        "# world_cup = world_cup.withColumn(\"points\", when(world_cup.Team == \"Ecuador\", world_cup.points+pt).otherwise(world_cup.points))\n",
        "# # world_cup.createOrReplaceTempView(\"PER\")\n",
        "# # world_cup=spark.sql(\"select Team,points+5 as points where Team=Qatar from PER\")\n",
        "# world_cup.show()"
      ],
      "metadata": {
        "id": "4cD5HuVM4Aej"
      },
      "execution_count": null,
      "outputs": []
    },
    {
      "cell_type": "markdown",
      "source": [
        "Knockout Rounds"
      ],
      "metadata": {
        "id": "j1NSXOUAmLof"
      }
    },
    {
      "cell_type": "code",
      "source": [
        "pairing = [0,3,4,7,8,11,12,15,1,2,5,6,9,10,13,14]\n",
        "\n",
        "world_cup = world_cup.sort_values(by=['Group', 'points', 'total_prob'], ascending=False).reset_index()\n",
        "next_round_wc = world_cup.groupby('Group').nth([0, 1]) # select the top 2\n",
        "next_round_wc = next_round_wc.reset_index()\n",
        "next_round_wc = next_round_wc.loc[pairing]\n",
        "next_round_wc = next_round_wc.set_index('Team')\n",
        "\n",
        "finals = ['round_of_16', 'quarterfinal', 'semifinal', 'final']\n",
        "\n",
        "labels = list()\n",
        "odds = list()\n",
        "\n",
        "for f in finals:\n",
        "    print(\"___Starting of the {}___\".format(f))\n",
        "    iterations = int(len(next_round_wc) / 2)\n",
        "    winners = []\n",
        "\n",
        "    for i in range(iterations):\n",
        "        home = next_round_wc.index[i*2]\n",
        "        away = next_round_wc.index[i*2+1]\n",
        "        print(\"{} vs. {}: \".format(home,\n",
        "                                   away),\n",
        "                                   end='')\n",
        "        row = pd.DataFrame(np.array([[np.nan, np.nan, np.nan, np.nan,np.nan]]), columns=init_feat(matchesp).columns)\n",
        "        home_rank = participants_rank.select(\"rank\").where(participants_rank.nation == home).collect()[0][0] # participants_rank_pd.loc[home,\"rank\"]\n",
        "        away_rank = participants_rank.select(\"rank\").where(participants_rank.nation == away).collect()[0][0] # participants_rank_pd.loc[away,\"rank\"]\n",
        "\n",
        "        row[\"rank_diff\"] = home_rank - away_rank\n",
        "        row[\"point_diff\"] = participants_rank_pd.loc[home,\"total_points\"] - participants_rank_pd.loc[away,\"total_points\"]\n",
        "        row[\"neutral_location\"] = False if home == \"Qatar\" else True\n",
        "        row[\"rank_avg\"] = (home_rank + away_rank) / 2\n",
        "        row['stake'] = True\n",
        "\n",
        "        row = spark.createDataFrame(row)\n",
        "        row = np.asarray(row.collect())\n",
        "\n",
        "        home_win_prob = model.predict_proba(row)[:,2][0]\n",
        "        away_win_prob = model.predict_proba(row)[:,0][0]\n",
        "        draw_prob = model.predict_proba(row)[:,1][0]\n",
        "\n",
        "        probability = bts.max(home_win_prob,away_win_prob,draw_prob)\n",
        "        if probability == away_win_prob:\n",
        "            print(\"{0} wins with probability {1:.2f}%\".format(away, away_win_prob))\n",
        "            winners.append(away)\n",
        "        elif probability == home_win_prob:\n",
        "            print(\"{0} wins with probability {1:.2f}%\".format(home, home_win_prob))\n",
        "            winners.append(home)\n",
        "        elif probability == draw_prob:\n",
        "            extra_time_winner = bts.max(home_win_prob, away_win_prob)\n",
        "            if extra_time_winner == away_win_prob:\n",
        "              print(\"{0} wins after regulation time with probability {1:.2f}%\".format(away, away_win_prob))\n",
        "              winners.append(away)\n",
        "            else:\n",
        "              print(\"{0} wins after regulation time with probability {1:.2f}%\".format(home, home_win_prob))\n",
        "              winners.append(home)\n",
        "\n",
        "\n",
        "        labels.append(\"{}({:.2f}%) vs. {}({:.2f}%)\".format(home[:3],\n",
        "                                                        home_win_prob,\n",
        "                                                        away[:3],\n",
        "                                                        (away_win_prob)))\n",
        "        odds.append([home_win_prob, away_win_prob])\n",
        "\n",
        "    next_round_wc = next_round_wc.loc[winners]\n",
        "    print(\"\\n\")"
      ],
      "metadata": {
        "colab": {
          "base_uri": "https://localhost:8080/"
        },
        "id": "-G5uOuLHmVfl",
        "outputId": "610352a1-4104-445e-bbf6-7a19eec2790b"
      },
      "execution_count": null,
      "outputs": [
        {
          "output_type": "stream",
          "name": "stdout",
          "text": [
            "___Starting of the round_of_16___\n",
            "Netherlands vs. IR Iran: Netherlands wins with probability 0.52%\n",
            "Argentina vs. Denmark: Argentina wins with probability 0.49%\n",
            "Spain vs. Morocco: Spain wins with probability 0.54%\n",
            "Brazil vs. Uruguay: Brazil wins with probability 0.55%\n",
            "Senegal vs. England: England wins with probability 0.47%\n",
            "Mexico vs. France: France wins with probability 0.44%\n",
            "Germany vs. Belgium: Belgium wins with probability 0.49%\n",
            "Switzerland vs. Portugal: Portugal wins with probability 0.41%\n",
            "\n",
            "\n",
            "___Starting of the quarterfinal___\n",
            "Netherlands vs. Argentina: Netherlands wins with probability 0.39%\n",
            "Spain vs. Brazil: Brazil wins with probability 0.44%\n",
            "England vs. France: England wins with probability 0.43%\n",
            "Belgium vs. Portugal: Belgium wins with probability 0.48%\n",
            "\n",
            "\n",
            "___Starting of the semifinal___\n",
            "Netherlands vs. Brazil: Brazil wins with probability 0.52%\n",
            "England vs. Belgium: England wins with probability 0.44%\n",
            "\n",
            "\n",
            "___Starting of the final___\n",
            "Brazil vs. England: Brazil wins with probability 0.52%\n",
            "\n",
            "\n"
          ]
        }
      ]
    },
    {
      "cell_type": "markdown",
      "source": [
        "Visualization"
      ],
      "metadata": {
        "id": "U9L7VRnh1-Xw"
      }
    },
    {
      "cell_type": "code",
      "source": [
        "import networkx as nx\n",
        "import pydot\n",
        "from networkx.drawing.nx_pydot import graphviz_layout\n",
        "\n",
        "node_sizes = pd.DataFrame(list(reversed(odds)))\n",
        "scale_factor = 0.3 # for visualization\n",
        "G = nx.balanced_tree(2, 3)\n",
        "pos = graphviz_layout(G, prog='twopi')\n",
        "centre = pd.DataFrame(pos).mean(axis=1).mean()\n",
        "\n",
        "plt.figure(figsize=(13, 12))\n",
        "ax = plt.subplot(1,1,1)\n",
        "# add circles\n",
        "circle_positions = [(235, 'black'), (180, 'blue'), (120, 'red'), (60, 'yellow')]\n",
        "[ax.add_artist(plt.Circle((centre, centre),\n",
        "                          cp, color='cyan',\n",
        "                          alpha=0.2)) for cp, c in circle_positions]\n",
        "\n",
        "# draw first the graph\n",
        "nx.draw(G, pos,\n",
        "        node_color=node_sizes.diff(axis=1)[1].abs().pow(scale_factor),\n",
        "        node_size=node_sizes.diff(axis=1)[1].abs().pow(scale_factor)*2000,\n",
        "        alpha=1,\n",
        "        cmap='Reds',\n",
        "        edge_color='black',\n",
        "        width=10,\n",
        "        with_labels=False)\n",
        "\n",
        "# draw the custom node labels\n",
        "shifted_pos = {k:[(v[0]-centre)*0.9+centre,(v[1]-centre)*0.9+centre] for k,v in pos.items()}\n",
        "nx.draw_networkx_labels(G,\n",
        "                        pos=shifted_pos,\n",
        "                        bbox=dict(boxstyle=\"round,pad=0.3\", fc=\"white\", ec=\"black\", lw=.5, alpha=1),\n",
        "                        labels=dict(zip(reversed(range(len(labels))), labels)))\n",
        "\n",
        "texts = ((10, 'Round-\\n of 16', 'black'), (70, 'Quarter-\\nfinal', 'blue'), (130, 'Semi-final', 'red'), (190, 'Final', 'yellow'))\n",
        "[plt.text(p, centre+20, t,\n",
        "          fontsize=12, color='grey',\n",
        "          va='center', ha='center') for p,t,c in texts]\n",
        "plt.axis('equal')\n",
        "plt.title('Knock-out round\\npredictions with fair odds', fontsize=20)\n",
        "plt.show()"
      ],
      "metadata": {
        "colab": {
          "base_uri": "https://localhost:8080/",
          "height": 726
        },
        "id": "lfDIe20y2BCG",
        "outputId": "7dfc26be-39d3-4198-a668-b012161c6f7f"
      },
      "execution_count": null,
      "outputs": [
        {
          "output_type": "display_data",
          "data": {
            "text/plain": [
              "<Figure size 936x864 with 1 Axes>"
            ],
            "image/png": "[encoded data removed]"
          },
          "metadata": {}
        }
      ]
    }
  ],
  "metadata": {
    "colab": {
      "provenance": [],
      "authorship_tag": "ABX9TyP9M3ZtCaYQq43VKIpickWL",
      "include_colab_link": true
    },
    "kernelspec": {
      "display_name": "Python 3",
      "name": "python3"
    },
    "language_info": {
      "name": "python"
    }
  },
  "nbformat": 4,
  "nbformat_minor": 0
}